{
 "cells": [
  {
   "cell_type": "code",
   "execution_count": null,
   "id": "768a246a",
   "metadata": {},
   "outputs": [],
   "source": [
    "import cv2\n",
    "\n",
    "\n",
    "img=cv2.imread('fruit4.jpg',cv2.IMREAD_GRAYSCALE)\n",
    "\n",
    "\n",
    "clahe=cv2.createCLAHE(clipLimit=2.0,tileGridSize=(8,8))clahe_img=clahe.apply(img)\n",
    "\n",
    "thresh_val, thresh_img = cv2.threshold(clahe_img, 0, 255,cv2.THRESH_BINARY+cv2.THRESH_OTSU)\n",
    "\n",
    "hierarchy = cv2.findContours(thresh_img, cv2.RETR_EXTERNAL,cv2.CHAIN_APPROX_SIMPLE)\n",
    "cv2.drawContours(img,contours,-1,(0, 0,255),2)\n",
    "\n",
    "cv2.imshow('OriginalImage',img)\n",
    "cv2.imshow('Enhanced Image', clahe_img)\n",
    "cv2.imshow('Segmented Image', thresh_img)cv2.waitKey(0)\n",
    "cv2.destroyAllWindows()"
   ]
  }
 ],
 "metadata": {
  "kernelspec": {
   "display_name": "Python 3 (ipykernel)",
   "language": "python",
   "name": "python3"
  },
  "language_info": {
   "codemirror_mode": {
    "name": "ipython",
    "version": 3
   },
   "file_extension": ".py",
   "mimetype": "text/x-python",
   "name": "python",
   "nbconvert_exporter": "python",
   "pygments_lexer": "ipython3",
   "version": "3.10.9"
  }
 },
 "nbformat": 4,
 "nbformat_minor": 5
}
