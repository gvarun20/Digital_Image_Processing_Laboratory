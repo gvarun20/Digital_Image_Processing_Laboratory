{
 "cells": [
  {
   "cell_type": "code",
   "execution_count": null,
   "id": "eb1e8b3c",
   "metadata": {},
   "outputs": [],
   "source": [
    "import cv2\n",
    "img=cv2.imread('fruit4.jpg')\n",
    "height, width = img.shape[:2]\n",
    "half_width = width//2\n",
    "half_height = height//2\n",
    "\n",
    "top_left = img[0:half_height, 0:half_width]\n",
    "top_right = img[0:half_height, half_width:width]\n",
    "bottom_left = img[half_height:height,0:half_width]\n",
    "bottom_right = img[half_height:height,half_width:width]\n",
    "\n",
    "cv2.imshow('Top Left', top_left)\n",
    "cv2.imshow('Top Right', top_right)\n",
    "cv2.imshow('Bottom Left', bottom_left)\n",
    "cv2.imshow('Bottom Right', bottom_right)\n",
    "\n",
    "cv2.waitKey(0)\n",
    "cv2.destroyAllWindows()"
   ]
  }
 ],
 "metadata": {
  "kernelspec": {
   "display_name": "Python 3 (ipykernel)",
   "language": "python",
   "name": "python3"
  },
  "language_info": {
   "codemirror_mode": {
    "name": "ipython",
    "version": 3
   },
   "file_extension": ".py",
   "mimetype": "text/x-python",
   "name": "python",
   "nbconvert_exporter": "python",
   "pygments_lexer": "ipython3",
   "version": "3.10.9"
  }
 },
 "nbformat": 4,
 "nbformat_minor": 5
}
