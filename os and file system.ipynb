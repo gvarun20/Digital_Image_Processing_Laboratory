{
 "cells": [
  {
   "cell_type": "code",
   "execution_count": 1,
   "id": "0e5c8981",
   "metadata": {},
   "outputs": [],
   "source": [
    "import os"
   ]
  },
  {
   "cell_type": "code",
   "execution_count": 2,
   "id": "4befc019",
   "metadata": {},
   "outputs": [
    {
     "data": {
      "text/plain": [
       "'C:\\\\Users\\\\Abhishek kumar'"
      ]
     },
     "execution_count": 2,
     "metadata": {},
     "output_type": "execute_result"
    }
   ],
   "source": [
    "os.getcwd()"
   ]
  },
  {
   "cell_type": "code",
   "execution_count": 3,
   "id": "1f5f9be7",
   "metadata": {},
   "outputs": [
    {
     "name": "stdout",
     "output_type": "stream",
     "text": [
      "Help on built-in function listdir in module nt:\n",
      "\n",
      "listdir(path=None)\n",
      "    Return a list containing the names of the files in the directory.\n",
      "    \n",
      "    path can be specified as either str, bytes, or a path-like object.  If path is bytes,\n",
      "      the filenames returned will also be bytes; in all other circumstances\n",
      "      the filenames returned will be str.\n",
      "    If path is None, uses the path='.'.\n",
      "    On some platforms, path may also be specified as an open file descriptor;\\\n",
      "      the file descriptor must refer to a directory.\n",
      "      If this functionality is unavailable, using it raises NotImplementedError.\n",
      "    \n",
      "    The list is in arbitrary order.  It does not include the special\n",
      "    entries '.' and '..' even if they are present in the directory.\n",
      "\n"
     ]
    }
   ],
   "source": [
    "help(os.listdir)"
   ]
  },
  {
   "cell_type": "code",
   "execution_count": 4,
   "id": "e577c50d",
   "metadata": {},
   "outputs": [],
   "source": [
    "os.makedirs('./data',exist_ok=True)"
   ]
  },
  {
   "cell_type": "code",
   "execution_count": 5,
   "id": "2e5a5e4b",
   "metadata": {},
   "outputs": [
    {
     "data": {
      "text/plain": [
       "True"
      ]
     },
     "execution_count": 5,
     "metadata": {},
     "output_type": "execute_result"
    }
   ],
   "source": [
    "'data' in os.listdir('.')"
   ]
  },
  {
   "cell_type": "code",
   "execution_count": 6,
   "id": "68c9cc0b",
   "metadata": {},
   "outputs": [],
   "source": [
    "from urllib.request import urlretrieve"
   ]
  },
  {
   "cell_type": "code",
   "execution_count": 22,
   "id": "a699e70a",
   "metadata": {},
   "outputs": [],
   "source": [
    "url1 ='https://raw.githubusercontent.com/chidanandamurthy/dataAnalysis/main/loans1.txt'"
   ]
  },
  {
   "cell_type": "code",
   "execution_count": 23,
   "id": "1b04dfab",
   "metadata": {},
   "outputs": [],
   "source": [
    "url2 ='https://raw.githubusercontent.com/chidanandamurthy/dataAnalysis/main/loans2.txt'"
   ]
  },
  {
   "cell_type": "code",
   "execution_count": 24,
   "id": "4183780a",
   "metadata": {},
   "outputs": [],
   "source": [
    "url3 ='https://raw.githubusercontent.com/chidanandamurthy/dataAnalysis/main/loans3.txt'"
   ]
  },
  {
   "cell_type": "code",
   "execution_count": 25,
   "id": "16e3282b",
   "metadata": {},
   "outputs": [],
   "source": [
    "from urllib.request import urlretrieve"
   ]
  },
  {
   "cell_type": "code",
   "execution_count": 32,
   "id": "a01e6331",
   "metadata": {},
   "outputs": [
    {
     "data": {
      "text/plain": [
       "('loans1.txt', <http.client.HTTPMessage at 0x288efea01f0>)"
      ]
     },
     "execution_count": 32,
     "metadata": {},
     "output_type": "execute_result"
    }
   ],
   "source": [
    "urlretrieve('https://raw.githubusercontent.com/chidanandamurthy/dataAnalysis/main/loans1.txt','loans1.txt')"
   ]
  },
  {
   "cell_type": "code",
   "execution_count": 44,
   "id": "4be55b22",
   "metadata": {},
   "outputs": [
    {
     "data": {
      "text/plain": [
       "['hello ', 'orld ', 'elcome to python programming']"
      ]
     },
     "execution_count": 44,
     "metadata": {},
     "output_type": "execute_result"
    }
   ],
   "source": [
    "mystring = 'hello world welcome to python programming'\n",
    "mystring.split('w')"
   ]
  },
  {
   "cell_type": "code",
   "execution_count": 45,
   "id": "e6443784",
   "metadata": {},
   "outputs": [],
   "source": [
    "def parse_headers(header_line):\n",
    "    '''it passes the given strips any spanes and or \\n and splits based on the \",\" \n",
    "    returns: a list of tokens'''\n",
    "    return header_line.strip().split(',')"
   ]
  },
  {
   "cell_type": "code",
   "execution_count": 46,
   "id": "d0b0d03c",
   "metadata": {},
   "outputs": [
    {
     "data": {
      "text/plain": [
       "<function __main__.parse_headers(header_line)>"
      ]
     },
     "execution_count": 46,
     "metadata": {},
     "output_type": "execute_result"
    }
   ],
   "source": [
    "parse_headers"
   ]
  },
  {
   "cell_type": "code",
   "execution_count": 47,
   "id": "56aa915c",
   "metadata": {},
   "outputs": [
    {
     "name": "stdout",
     "output_type": "stream",
     "text": [
      "Help on function parse_headers in module __main__:\n",
      "\n",
      "parse_headers(header_line)\n",
      "    it passes the given strips any spanes and or \n",
      "    and splits based on the \",\" \n",
      "       returns: a list of tokens\n",
      "\n"
     ]
    }
   ],
   "source": [
    "help(parse_headers)"
   ]
  },
  {
   "cell_type": "code",
   "execution_count": 48,
   "id": "88ead936",
   "metadata": {},
   "outputs": [],
   "source": [
    "def parse_values(data_line):\n",
    "    '''This functions split splits the given text into tokens '''\n",
    "    values = []\n",
    "    for item in data_line.strip().split(','):\n",
    "        values.append(float(item))\n",
    "    return values"
   ]
  },
  {
   "cell_type": "code",
   "execution_count": 49,
   "id": "a28fdb3a",
   "metadata": {},
   "outputs": [
    {
     "data": {
      "text/plain": [
       "<function __main__.parse_values(data_line)>"
      ]
     },
     "execution_count": 49,
     "metadata": {},
     "output_type": "execute_result"
    }
   ],
   "source": [
    "parse_values"
   ]
  },
  {
   "cell_type": "code",
   "execution_count": 51,
   "id": "5bdf0d4f",
   "metadata": {},
   "outputs": [],
   "source": [
    "def create_item_dict(values,headers):\n",
    "    result = {}\n",
    "    for value,header in zip(values,headers):\n",
    "        result[header] = value\n",
    "    return result"
   ]
  },
  {
   "cell_type": "code",
   "execution_count": 53,
   "id": "a0c595a9",
   "metadata": {},
   "outputs": [
    {
     "name": "stdout",
     "output_type": "stream",
     "text": [
      "(1, 'a')\n",
      "(2, 'b')\n",
      "(3, 'c')\n"
     ]
    }
   ],
   "source": [
    "for item in zip([1,2,3],['a','b','c']):\n",
    "    print(item)"
   ]
  },
  {
   "cell_type": "code",
   "execution_count": 59,
   "id": "f54d440c",
   "metadata": {},
   "outputs": [],
   "source": [
    "def read_csv(path):\n",
    "    result = []\n",
    "    # open the file in read mode\n",
    "    with open(path,'r') as f:\n",
    "        # Get a list of lines\n",
    "        lines = f.readlines()\n",
    "        # parse the header\n",
    "        headers = parse_headers(lines[0])\n",
    "        # loops over the remaining lines\n",
    "        for data_line in lines[1:]:\n",
    "            values = parse_values(data_line)\n",
    "            item_dict = create_item_dict(values,headers)\n",
    "            result.append(item_dict)\n",
    "    return result"
   ]
  },
  {
   "cell_type": "code",
   "execution_count": 72,
   "id": "40a2929f",
   "metadata": {},
   "outputs": [
    {
     "data": {
      "text/plain": [
       "[]"
      ]
     },
     "execution_count": 72,
     "metadata": {},
     "output_type": "execute_result"
    }
   ],
   "source": [
    "os.listdir('data')"
   ]
  },
  {
   "cell_type": "code",
   "execution_count": 3,
   "id": "700867d4",
   "metadata": {},
   "outputs": [],
   "source": [
    "def write_csv(items,path):\n",
    "    # open the file in write mode\n",
    "    with open(path,'w') as f:\n",
    "        if len(items) == 0:\n",
    "            return\n",
    "        # write the headers in the first line\n",
    "        header = list(items[0].keys())\n",
    "        f.write(','.join(header) + '\\n')\n",
    "        # write one item per line\n",
    "        for item in items:\n",
    "            values = []\n",
    "            for header in headers:\n",
    "                values.append(str(item.get(header,\"\")))\n",
    "            f.write(','.join(values) + \"\\n\")\n",
    "    "
   ]
  },
  {
   "cell_type": "code",
   "execution_count": 4,
   "id": "40c7dfe8",
   "metadata": {},
   "outputs": [
    {
     "ename": "NameError",
     "evalue": "name 'read_csv' is not defined",
     "output_type": "error",
     "traceback": [
      "\u001b[1;31m---------------------------------------------------------------------------\u001b[0m",
      "\u001b[1;31mNameError\u001b[0m                                 Traceback (most recent call last)",
      "\u001b[1;32mC:\\Users\\ABHISH~1\\AppData\\Local\\Temp/ipykernel_26860/3820694882.py\u001b[0m in \u001b[0;36m<module>\u001b[1;34m\u001b[0m\n\u001b[1;32m----> 1\u001b[1;33m \u001b[0mloans3\u001b[0m \u001b[1;33m=\u001b[0m \u001b[0mread_csv\u001b[0m\u001b[1;33m(\u001b[0m\u001b[1;34m'./data/loans3.txt'\u001b[0m\u001b[1;33m)\u001b[0m\u001b[1;33m\u001b[0m\u001b[1;33m\u001b[0m\u001b[0m\n\u001b[0m",
      "\u001b[1;31mNameError\u001b[0m: name 'read_csv' is not defined"
     ]
    }
   ],
   "source": [
    "loans3 = read_csv('./data/loans3.txt')\n"
   ]
  },
  {
   "cell_type": "code",
   "execution_count": 5,
   "id": "44c810ef",
   "metadata": {},
   "outputs": [
    {
     "ename": "NameError",
     "evalue": "name 'compute_emis' is not defined",
     "output_type": "error",
     "traceback": [
      "\u001b[1;31m---------------------------------------------------------------------------\u001b[0m",
      "\u001b[1;31mNameError\u001b[0m                                 Traceback (most recent call last)",
      "\u001b[1;32mC:\\Users\\ABHISH~1\\AppData\\Local\\Temp/ipykernel_26860/1582919191.py\u001b[0m in \u001b[0;36m<module>\u001b[1;34m\u001b[0m\n\u001b[1;32m----> 1\u001b[1;33m \u001b[0mcompute_emis\u001b[0m\u001b[1;33m(\u001b[0m\u001b[0mloans3\u001b[0m\u001b[1;33m)\u001b[0m\u001b[1;33m\u001b[0m\u001b[1;33m\u001b[0m\u001b[0m\n\u001b[0m",
      "\u001b[1;31mNameError\u001b[0m: name 'compute_emis' is not defined"
     ]
    }
   ],
   "source": [
    "compute_emis(loans3)"
   ]
  },
  {
   "cell_type": "code",
   "execution_count": null,
   "id": "9684d83c",
   "metadata": {},
   "outputs": [],
   "source": []
  }
 ],
 "metadata": {
  "kernelspec": {
   "display_name": "Python 3 (ipykernel)",
   "language": "python",
   "name": "python3"
  },
  "language_info": {
   "codemirror_mode": {
    "name": "ipython",
    "version": 3
   },
   "file_extension": ".py",
   "mimetype": "text/x-python",
   "name": "python",
   "nbconvert_exporter": "python",
   "pygments_lexer": "ipython3",
   "version": "3.9.12"
  }
 },
 "nbformat": 4,
 "nbformat_minor": 5
}
