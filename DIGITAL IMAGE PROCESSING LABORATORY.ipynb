{
 "cells": [
  {
   "cell_type": "markdown",
   "id": "c605b2e0",
   "metadata": {},
   "source": [
    "# 1)Write a Program to read a digital image. Split and display image into 4 quadrants, up, down, right and left"
   ]
  },
  {
   "cell_type": "code",
   "execution_count": null,
   "id": "8219542e",
   "metadata": {},
   "outputs": [],
   "source": [
    "import cv2\n",
    "img=cv2.imread('fruit4.jpg')\n",
    "height, width = img.shape[:2]\n",
    "half_width = width//2\n",
    "half_height = height//2\n",
    "\n",
    "top_left = img[0:half_height, 0:half_width]\n",
    "top_right = img[0:half_height, half_width:width]\n",
    "bottom_left = img[half_height:height,0:half_width]\n",
    "bottom_right = img[half_height:height,half_width:width]\n",
    "\n",
    "cv2.imshow('Top Left', top_left)\n",
    "cv2.imshow('Top Right', top_right)\n",
    "cv2.imshow('Bottom Left', bottom_left)\n",
    "cv2.imshow('Bottom Right', bottom_right)\n",
    "\n",
    "cv2.waitKey(0)\n",
    "cv2.destroyAllWindows()"
   ]
  },
  {
   "cell_type": "markdown",
   "id": "87a24cef",
   "metadata": {},
   "source": [
    "\n",
    "# 2)Write a program to showrotation, scaling, and translation of an image."
   ]
  },
  {
   "cell_type": "code",
   "execution_count": 2,
   "id": "37bbab08",
   "metadata": {},
   "outputs": [],
   "source": [
    "import cv2\n",
    "import numpy as np \n",
    "\n",
    "img = cv2.imread('fruit4.jpg')\n",
    "\n",
    "angle = 60\n",
    "scale = 1.5\n",
    "tx, ty = 50, -30\n",
    "\n",
    "\n",
    "h, w = img.shape[:2]\n",
    "\n",
    "M_rotate = cv2.getRotationMatrix2D((w//2, h//2), angle, scale)\n",
    "\n",
    "M_translate = np.float32([[1, 0, tx], [0, 1, ty]])\n",
    "\n",
    "\n",
    "img_rotated = cv2.warpAffine(img, M_rotate, (w, h)) \n",
    "img_transformed = cv2.warpAffine(img, M_translate, (w, h))\n",
    "\n",
    "cv2.imshow('Original', img)\n",
    "cv2.imshow('Rotated', img_rotated) \n",
    "cv2.imshow('Transformed', img_transformed)\n",
    "\n",
    "cv2.waitKey(0)\n",
    "cv2.destroyAllWindows()\n"
   ]
  },
  {
   "cell_type": "markdown",
   "id": "fa67788a",
   "metadata": {},
   "source": [
    "# 3)Read an image, first apply erosion to the image and then subtract the result from the original.   Demonstrate the differencein the edge image if you use dilation instead of erosion."
   ]
  },
  {
   "cell_type": "code",
   "execution_count": 1,
   "id": "9c4dd4a8",
   "metadata": {},
   "outputs": [],
   "source": [
    "import cv2\n",
    "import numpy as np\n",
    "\n",
    "\n",
    "import cv2\n",
    "import numpy as np\n",
    "\n",
    "img = cv2.imread('fruit4.jpg')\n",
    "\n",
    "if img is None:\n",
    "    print('Image not found or cannot be read.')\n",
    "else:\n",
    "    gray = cv2.cvtColor(img, cv2.COLOR_BGR2GRAY)\n",
    "    kernel = np.ones((5, 5), np.uint8)\n",
    "    erosion = cv2.erode(gray, kernel, iterations=1)\n",
    "    # Continue processing the image as desired\n",
    "dilation=cv2.dilate(gray,kernel,iterations=1)\n",
    "\n",
    "edges_erosion=gray-erosion\n",
    "\n",
    "edges_dilation =dilation-gray\n",
    "\n",
    "cv2.imshow('Original',img)\n",
    "cv2.imshow('Eroded', erosion)\n",
    "cv2.imshow('Dilated',dilation)\n",
    "\n",
    "cv2.imshow('Edges (Erosion)', edges_erosion)\n",
    "cv2.imshow('Edges(Dilation)',edges_dilation)\n",
    "\n",
    "cv2.waitKey(0)\n",
    "cv2.destroyAllWindows() \n"
   ]
  },
  {
   "cell_type": "markdown",
   "id": "34b8415a",
   "metadata": {},
   "source": [
    "# 4)Read an image and extract and display low-level features such as edges, textures using filtering techniques"
   ]
  },
  {
   "cell_type": "code",
   "execution_count": null,
   "id": "2177375d",
   "metadata": {},
   "outputs": [],
   "source": [
    "import cv2\n",
    "\n",
    "img=cv2.imread('fruit4.jpeg',cv2.IMREAD_GRAYSCALE)\n",
    "\n",
    "blurred = cv2.GaussianBlur(img,(5,5), 0)\n",
    "\n",
    "edges = cv2.Canny(blurred,100,200)\n",
    "\n",
    "laplacian = cv2.Laplacian(blurred,cv2.CV_64F)\n",
    "\n",
    "kernel = cv2.getGaborKernel((10,10),3,0,10,0.5,0,ktype=cv2.CV_32F)\n",
    "gabor = cv2.filter2D(img,cv2.CV_8UC3,kernel)\n",
    "\n",
    "cv2.imshow('Original', img)\n",
    "cv2.imshow('Canny Edges', edges)\n",
    "cv2.imshow('Laplacian Edges', laplacian)\n",
    "cv2.imshow('Gabor Filtered', gabor)\n",
    "\n",
    "cv2.waitKey(0)\n",
    "cv2.destroyAllWindows()"
   ]
  },
  {
   "cell_type": "markdown",
   "id": "d03b0d4e",
   "metadata": {},
   "source": [
    "# 5)Demonstrate enhancing and segmenting low contrast 2D images."
   ]
  },
  {
   "cell_type": "code",
   "execution_count": null,
   "id": "d4188d8d",
   "metadata": {},
   "outputs": [],
   "source": [
    "import cv2\n",
    "\n",
    "\n",
    "img=cv2.imread('fruit4.jpg',cv2.IMREAD_GRAYSCALE)\n",
    "\n",
    "\n",
    "clahe=cv2.createCLAHE(clipLimit=2.0,tileGridSize=(8,8))clahe_img=clahe.apply(img)\n",
    "\n",
    "thresh_val, thresh_img = cv2.threshold(clahe_img, 0, 255,cv2.THRESH_BINARY+cv2.THRESH_OTSU)\n",
    "\n",
    "hierarchy = cv2.findContours(thresh_img, cv2.RETR_EXTERNAL,cv2.CHAIN_APPROX_SIMPLE)\n",
    "cv2.drawContours(img,contours,-1,(0, 0,255),2)\n",
    "\n",
    "cv2.imshow('OriginalImage',img)\n",
    "cv2.imshow('Enhanced Image', clahe_img)\n",
    "cv2.imshow('Segmented Image', thresh_img)cv2.waitKey(0)\n",
    "cv2.destroyAllWindows()"
   ]
  },
  {
   "cell_type": "code",
   "execution_count": null,
   "id": "4ca08e5b",
   "metadata": {},
   "outputs": [],
   "source": []
  },
  {
   "cell_type": "code",
   "execution_count": null,
   "id": "f7c7d4b7",
   "metadata": {},
   "outputs": [],
   "source": []
  },
  {
   "cell_type": "code",
   "execution_count": null,
   "id": "47a13d71",
   "metadata": {},
   "outputs": [],
   "source": []
  }
 ],
 "metadata": {
  "kernelspec": {
   "display_name": "Python 3 (ipykernel)",
   "language": "python",
   "name": "python3"
  },
  "language_info": {
   "codemirror_mode": {
    "name": "ipython",
    "version": 3
   },
   "file_extension": ".py",
   "mimetype": "text/x-python",
   "name": "python",
   "nbconvert_exporter": "python",
   "pygments_lexer": "ipython3",
   "version": "3.10.9"
  }
 },
 "nbformat": 4,
 "nbformat_minor": 5
}
