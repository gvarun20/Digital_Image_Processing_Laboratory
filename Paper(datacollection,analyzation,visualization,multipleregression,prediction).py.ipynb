{
 "cells": [
  {
   "cell_type": "code",
   "execution_count": 1,
   "id": "f855eab6",
   "metadata": {},
   "outputs": [
    {
     "name": "stdout",
     "output_type": "stream",
     "text": [
      "Requirement already satisfied: xlrd in c:\\users\\hi\\anaconda3\\lib\\site-packages (2.0.1)Note: you may need to restart the kernel to use updated packages.\n",
      "\n"
     ]
    }
   ],
   "source": [
    "pip install xlrd"
   ]
  },
  {
   "cell_type": "code",
   "execution_count": 5,
   "id": "9ad64077",
   "metadata": {},
   "outputs": [],
   "source": [
    "import xlrd\n",
    "import csv\n"
   ]
  },
  {
   "cell_type": "code",
   "execution_count": 7,
   "id": "362c343e",
   "metadata": {},
   "outputs": [],
   "source": [
    "#import csv\n",
    "#data = open(\"C:\\Users\\HI\\Documents\\tempread.txt\")\n",
    "#data = csv.reader(read3.csv)\n",
    "#print(data)"
   ]
  },
  {
   "cell_type": "code",
   "execution_count": 9,
   "id": "6b8526c2",
   "metadata": {},
   "outputs": [
    {
     "ename": "SyntaxError",
     "evalue": "(unicode error) 'unicodeescape' codec can't decode bytes in position 2-3: truncated \\UXXXXXXXX escape (2578570288.py, line 1)",
     "output_type": "error",
     "traceback": [
      "\u001b[1;36m  Input \u001b[1;32mIn [9]\u001b[1;36m\u001b[0m\n\u001b[1;33m    book = xlrd.open_workbook('C:\\Users\\HI\\Documents\\tempread.xls')\u001b[0m\n\u001b[1;37m                                                                  ^\u001b[0m\n\u001b[1;31mSyntaxError\u001b[0m\u001b[1;31m:\u001b[0m (unicode error) 'unicodeescape' codec can't decode bytes in position 2-3: truncated \\UXXXXXXXX escape\n"
     ]
    }
   ],
   "source": [
    "book = xlrd.open_workbook('C:\\Users\\HI\\Documents\\tempread.xls')"
   ]
  },
  {
   "cell_type": "code",
   "execution_count": 12,
   "id": "8935119a",
   "metadata": {},
   "outputs": [],
   "source": [
    "import csv"
   ]
  },
  {
   "cell_type": "code",
   "execution_count": 13,
   "id": "2b371815",
   "metadata": {},
   "outputs": [
    {
     "ename": "FileNotFoundError",
     "evalue": "[Errno 2] No such file or directory: 'tempread2.csv'",
     "output_type": "error",
     "traceback": [
      "\u001b[1;31m---------------------------------------------------------------------------\u001b[0m",
      "\u001b[1;31mFileNotFoundError\u001b[0m                         Traceback (most recent call last)",
      "Input \u001b[1;32mIn [13]\u001b[0m, in \u001b[0;36m<cell line: 9>\u001b[1;34m()\u001b[0m\n\u001b[0;32m      6\u001b[0m             matrix\u001b[38;5;241m.\u001b[39mappend(row)\n\u001b[0;32m      7\u001b[0m     \u001b[38;5;28;01mreturn\u001b[39;00m matrix\n\u001b[1;32m----> 9\u001b[0m matrix \u001b[38;5;241m=\u001b[39m \u001b[43mcreate_matrix\u001b[49m\u001b[43m(\u001b[49m\u001b[38;5;124;43m'\u001b[39;49m\u001b[38;5;124;43mtempread2.csv\u001b[39;49m\u001b[38;5;124;43m'\u001b[39;49m\u001b[43m)\u001b[49m\n\u001b[0;32m     10\u001b[0m \u001b[38;5;28mprint\u001b[39m(matrix)\n",
      "Input \u001b[1;32mIn [13]\u001b[0m, in \u001b[0;36mcreate_matrix\u001b[1;34m(tempread2)\u001b[0m\n\u001b[0;32m      1\u001b[0m \u001b[38;5;28;01mdef\u001b[39;00m \u001b[38;5;21mcreate_matrix\u001b[39m(tempread2):\n\u001b[0;32m      2\u001b[0m     matrix \u001b[38;5;241m=\u001b[39m []\n\u001b[1;32m----> 3\u001b[0m     \u001b[38;5;28;01mwith\u001b[39;00m \u001b[38;5;28;43mopen\u001b[39;49m\u001b[43m(\u001b[49m\u001b[43mtempread2\u001b[49m\u001b[43m,\u001b[49m\u001b[43m \u001b[49m\u001b[38;5;124;43m'\u001b[39;49m\u001b[38;5;124;43mr\u001b[39;49m\u001b[38;5;124;43m'\u001b[39;49m\u001b[43m)\u001b[49m \u001b[38;5;28;01mas\u001b[39;00m csvfile:\n\u001b[0;32m      4\u001b[0m         csvreader \u001b[38;5;241m=\u001b[39m csv\u001b[38;5;241m.\u001b[39mreader(csvfile)\n\u001b[0;32m      5\u001b[0m         \u001b[38;5;28;01mfor\u001b[39;00m row \u001b[38;5;129;01min\u001b[39;00m csvreader:\n",
      "\u001b[1;31mFileNotFoundError\u001b[0m: [Errno 2] No such file or directory: 'tempread2.csv'"
     ]
    }
   ],
   "source": [
    "def create_matrix(tempread2):\n",
    "    matrix = []\n",
    "    with open(tempread2, 'r') as csvfile:\n",
    "        csvreader = csv.reader(csvfile)\n",
    "        for row in csvreader:\n",
    "            matrix.append(row)\n",
    "    return matrix\n",
    "\n",
    "matrix = create_matrix('tempread2.csv')\n",
    "print(matrix)"
   ]
  },
  {
   "cell_type": "code",
   "execution_count": 16,
   "id": "f8dfad7b",
   "metadata": {},
   "outputs": [
    {
     "ename": "FileNotFoundError",
     "evalue": "[Errno 2] No such file or directory: 'tempread2'",
     "output_type": "error",
     "traceback": [
      "\u001b[1;31m---------------------------------------------------------------------------\u001b[0m",
      "\u001b[1;31mFileNotFoundError\u001b[0m                         Traceback (most recent call last)",
      "Input \u001b[1;32mIn [16]\u001b[0m, in \u001b[0;36m<cell line: 4>\u001b[1;34m()\u001b[0m\n\u001b[0;32m      1\u001b[0m \u001b[38;5;28;01mimport\u001b[39;00m \u001b[38;5;21;01mcsv\u001b[39;00m\n\u001b[0;32m      3\u001b[0m \u001b[38;5;66;03m# Open the CSV file\u001b[39;00m\n\u001b[1;32m----> 4\u001b[0m \u001b[38;5;28;01mwith\u001b[39;00m \u001b[38;5;28;43mopen\u001b[39;49m\u001b[43m(\u001b[49m\u001b[38;5;124;43m'\u001b[39;49m\u001b[38;5;124;43mtempread2\u001b[39;49m\u001b[38;5;124;43m'\u001b[39;49m\u001b[43m,\u001b[49m\u001b[43m \u001b[49m\u001b[38;5;124;43m'\u001b[39;49m\u001b[38;5;124;43mr\u001b[39;49m\u001b[38;5;124;43m'\u001b[39;49m\u001b[43m)\u001b[49m \u001b[38;5;28;01mas\u001b[39;00m f:\n\u001b[0;32m      5\u001b[0m   \u001b[38;5;66;03m# Create a CSV reader\u001b[39;00m\n\u001b[0;32m      6\u001b[0m   reader \u001b[38;5;241m=\u001b[39m csv\u001b[38;5;241m.\u001b[39mreader(f)\n\u001b[0;32m      7\u001b[0m   \u001b[38;5;66;03m# Read the rows of the CSV file into a list\u001b[39;00m\n",
      "\u001b[1;31mFileNotFoundError\u001b[0m: [Errno 2] No such file or directory: 'tempread2'"
     ]
    }
   ],
   "source": [
    "import csv\n",
    "\n",
    "# Open the CSV file\n",
    "with open('tempread2', 'r') as f:\n",
    "  # Create a CSV reader\n",
    "  reader = csv.reader(f)\n",
    "  # Read the rows of the CSV file into a list\n",
    "  rows = list(reader)\n",
    "\n",
    "# Convert the rows into a 2D array\n",
    "matrix = [[float(cell) for cell in row] for row in rows]\n",
    "\n",
    "print(matrix)"
   ]
  },
  {
   "cell_type": "code",
   "execution_count": 17,
   "id": "e9863912",
   "metadata": {},
   "outputs": [
    {
     "ename": "UnicodeDecodeError",
     "evalue": "'charmap' codec can't decode byte 0x9d in position 8: character maps to <undefined>",
     "output_type": "error",
     "traceback": [
      "\u001b[1;31m---------------------------------------------------------------------------\u001b[0m",
      "\u001b[1;31mUnicodeDecodeError\u001b[0m                        Traceback (most recent call last)",
      "Input \u001b[1;32mIn [17]\u001b[0m, in \u001b[0;36m<cell line: 5>\u001b[1;34m()\u001b[0m\n\u001b[0;32m      2\u001b[0m my_file \u001b[38;5;241m=\u001b[39m \u001b[38;5;28mopen\u001b[39m(\u001b[38;5;124m\"\u001b[39m\u001b[38;5;124mtempread.txt\u001b[39m\u001b[38;5;124m\"\u001b[39m, \u001b[38;5;124m\"\u001b[39m\u001b[38;5;124mr\u001b[39m\u001b[38;5;124m\"\u001b[39m)\n\u001b[0;32m      4\u001b[0m \u001b[38;5;66;03m# reading the file\u001b[39;00m\n\u001b[1;32m----> 5\u001b[0m data \u001b[38;5;241m=\u001b[39m \u001b[43mmy_file\u001b[49m\u001b[38;5;241;43m.\u001b[39;49m\u001b[43mread\u001b[49m\u001b[43m(\u001b[49m\u001b[43m)\u001b[49m\n\u001b[0;32m      7\u001b[0m \u001b[38;5;66;03m# replacing end of line('/n') with ' ' and\u001b[39;00m\n\u001b[0;32m      8\u001b[0m \u001b[38;5;66;03m# splitting the text it further when '.' is seen.\u001b[39;00m\n\u001b[0;32m      9\u001b[0m data_into_list \u001b[38;5;241m=\u001b[39m data\u001b[38;5;241m.\u001b[39mreplace(\u001b[38;5;124m'\u001b[39m\u001b[38;5;130;01m\\n\u001b[39;00m\u001b[38;5;124m'\u001b[39m, \u001b[38;5;124m'\u001b[39m\u001b[38;5;124m \u001b[39m\u001b[38;5;124m'\u001b[39m)\u001b[38;5;241m.\u001b[39msplit(\u001b[38;5;124m\"\u001b[39m\u001b[38;5;124m.\u001b[39m\u001b[38;5;124m\"\u001b[39m)\n",
      "File \u001b[1;32m~\\anaconda3\\lib\\encodings\\cp1252.py:23\u001b[0m, in \u001b[0;36mIncrementalDecoder.decode\u001b[1;34m(self, input, final)\u001b[0m\n\u001b[0;32m     22\u001b[0m \u001b[38;5;28;01mdef\u001b[39;00m \u001b[38;5;21mdecode\u001b[39m(\u001b[38;5;28mself\u001b[39m, \u001b[38;5;28minput\u001b[39m, final\u001b[38;5;241m=\u001b[39m\u001b[38;5;28;01mFalse\u001b[39;00m):\n\u001b[1;32m---> 23\u001b[0m     \u001b[38;5;28;01mreturn\u001b[39;00m \u001b[43mcodecs\u001b[49m\u001b[38;5;241;43m.\u001b[39;49m\u001b[43mcharmap_decode\u001b[49m\u001b[43m(\u001b[49m\u001b[38;5;28;43minput\u001b[39;49m\u001b[43m,\u001b[49m\u001b[38;5;28;43mself\u001b[39;49m\u001b[38;5;241;43m.\u001b[39;49m\u001b[43merrors\u001b[49m\u001b[43m,\u001b[49m\u001b[43mdecoding_table\u001b[49m\u001b[43m)\u001b[49m[\u001b[38;5;241m0\u001b[39m]\n",
      "\u001b[1;31mUnicodeDecodeError\u001b[0m: 'charmap' codec can't decode byte 0x9d in position 8: character maps to <undefined>"
     ]
    }
   ],
   "source": [
    "# opening the file in read mode\n",
    "my_file = open(\"tempread.txt\", \"r\")\n",
    "  \n",
    "# reading the file\n",
    "data = my_file.read()\n",
    "  \n",
    "# replacing end of line('/n') with ' ' and\n",
    "# splitting the text it further when '.' is seen.\n",
    "data_into_list = data.replace('\\n', ' ').split(\".\")\n",
    "  \n",
    "# printing the data\n",
    "print(data_into_list)\n",
    "my_file.close()"
   ]
  },
  {
   "cell_type": "code",
   "execution_count": 9,
   "id": "21b6e225",
   "metadata": {},
   "outputs": [
    {
     "ename": "NameError",
     "evalue": "name 'read3' is not defined",
     "output_type": "error",
     "traceback": [
      "\u001b[1;31m---------------------------------------------------------------------------\u001b[0m",
      "\u001b[1;31mNameError\u001b[0m                                 Traceback (most recent call last)",
      "Input \u001b[1;32mIn [9]\u001b[0m, in \u001b[0;36m<cell line: 6>\u001b[1;34m()\u001b[0m\n\u001b[0;32m      3\u001b[0m filename \u001b[38;5;241m=\u001b[39m \u001b[38;5;124m\"\u001b[39m\u001b[38;5;124mtempread.txt\u001b[39m\u001b[38;5;124m\"\u001b[39m\n\u001b[0;32m      5\u001b[0m \u001b[38;5;66;03m#Open the file\u001b[39;00m\n\u001b[1;32m----> 6\u001b[0m infile \u001b[38;5;241m=\u001b[39m \u001b[38;5;28mopen\u001b[39m(\u001b[43mread3\u001b[49m\u001b[38;5;241m.\u001b[39mcsv, \u001b[38;5;124m'\u001b[39m\u001b[38;5;124mr\u001b[39m\u001b[38;5;124m'\u001b[39m) \n\u001b[0;32m      8\u001b[0m lines \u001b[38;5;241m=\u001b[39m infile\u001b[38;5;241m.\u001b[39mreadlines() \n\u001b[0;32m     10\u001b[0m \u001b[38;5;28;01mfor\u001b[39;00m line \u001b[38;5;129;01min\u001b[39;00m lines: \u001b[38;5;66;03m#lines is a list with each item representing a line of the file\u001b[39;00m\n",
      "\u001b[1;31mNameError\u001b[0m: name 'read3' is not defined"
     ]
    }
   ],
   "source": [
    "import csv\n",
    "#Create a variable for the file name\n",
    "filename = \"tempread.txt\"\n",
    "\n",
    "#Open the file\n",
    "infile = open(read3.csv, 'r') \n",
    "\n",
    "lines = infile.readlines() \n",
    "\n",
    "for line in lines: #lines is a list with each item representing a line of the file\n",
    "\tif 'control' in line:\n",
    "\t\tprint(line) #print lines for control condition\n",
    "\n",
    "infile.close() #close the file when you're done!"
   ]
  },
  {
   "cell_type": "code",
   "execution_count": 20,
   "id": "48438fcf",
   "metadata": {},
   "outputs": [],
   "source": [
    "#https://eldoyle.github.io/PythonIntro/08-ReadingandWritingTextFiles/"
   ]
  },
  {
   "cell_type": "code",
   "execution_count": 21,
   "id": "ed796aac",
   "metadata": {},
   "outputs": [
    {
     "data": {
      "text/plain": [
       "'using split  function start with letters and jump to a new \\nline when number appears py program to jump to a \\nnew line when number appears '"
      ]
     },
     "execution_count": 21,
     "metadata": {},
     "output_type": "execute_result"
    }
   ],
   "source": [
    "#try\n",
    "'''using split  function start with letters and jump to a new \n",
    "line when number appears py program to jump to a \n",
    "new line when number appears '''"
   ]
  },
  {
   "cell_type": "code",
   "execution_count": 23,
   "id": "a9cbb809",
   "metadata": {},
   "outputs": [
    {
     "name": "stdout",
     "output_type": "stream",
     "text": [
      "['created_at', 'entry_id', 'field1']\n",
      "['2022-12-29 13:26:32 UTC', '247', '27.00000']\n",
      "['2022-12-29 13:26:48 UTC', '248', '27.00000']\n",
      "['2022-12-29 13:27:04 UTC', '249', '27.00000']\n",
      "['2022-12-29 13:27:20 UTC', '250', '27.00000']\n",
      "['2022-12-29 13:27:36 UTC', '251', '27.00000']\n",
      "['2022-12-29 13:27:52 UTC', '252', '27.00000']\n",
      "['2022-12-29 13:28:08 UTC', '253', '27.00000']\n",
      "['2022-12-29 13:28:24 UTC', '254', '26.00000']\n",
      "['2022-12-29 13:28:40 UTC', '255', '26.00000']\n",
      "['2022-12-29 13:28:56 UTC', '256', '26.00000']\n",
      "['2022-12-29 13:29:12 UTC', '257', '26.00000']\n",
      "['2022-12-29 13:29:28 UTC', '258', '26.00000']\n",
      "['2022-12-29 13:29:44 UTC', '259', '26.00000']\n",
      "['2022-12-29 13:30:00 UTC', '260', '26.00000']\n",
      "['2022-12-29 13:30:16 UTC', '261', '26.00000']\n",
      "['2022-12-29 13:30:32 UTC', '262', '26.00000']\n",
      "['2022-12-29 13:30:48 UTC', '263', '26.00000']\n",
      "['2022-12-29 13:31:04 UTC', '264', '26.00000']\n",
      "['2022-12-29 13:31:20 UTC', '265', '26.00000']\n",
      "['2022-12-29 13:31:36 UTC', '266', '26.00000']\n",
      "['2022-12-29 13:31:52 UTC', '267', '26.00000']\n",
      "['2022-12-29 13:32:08 UTC', '268', '26.00000']\n",
      "['2022-12-29 13:32:24 UTC', '269', '26.00000']\n",
      "['2022-12-29 13:32:40 UTC', '270', '26.00000']\n",
      "['2022-12-29 13:32:56 UTC', '271', '26.00000']\n",
      "['2022-12-29 13:33:12 UTC', '272', '26.00000']\n",
      "['2022-12-29 13:33:28 UTC', '273', '26.00000']\n",
      "['2022-12-29 13:33:44 UTC', '274', '26.00000']\n",
      "['2022-12-29 13:34:00 UTC', '275', '26.00000']\n",
      "['2022-12-29 13:34:16 UTC', '276', '26.00000']\n",
      "['2022-12-29 13:34:32 UTC', '277', '26.00000']\n",
      "['2022-12-29 13:34:48 UTC', '278', '26.00000']\n",
      "['2022-12-29 13:35:04 UTC', '279', '26.00000']\n",
      "['2022-12-29 13:35:20 UTC', '280', '26.00000']\n",
      "['2022-12-29 13:35:36 UTC', '281', '26.00000']\n",
      "['2022-12-29 13:35:52 UTC', '282', '26.00000']\n",
      "['2022-12-29 13:36:08 UTC', '283', '26.00000']\n",
      "['2022-12-29 13:36:24 UTC', '284', '26.00000']\n",
      "['2022-12-29 13:36:40 UTC', '285', '26.00000']\n",
      "['2022-12-29 13:36:56 UTC', '286', '26.00000']\n",
      "['2022-12-29 13:37:12 UTC', '287', '26.00000']\n",
      "['2022-12-29 13:37:28 UTC', '288', '26.00000']\n",
      "['2023-01-06 13:33:11 UTC', '289', '24.00000']\n",
      "['2023-01-06 13:34:27 UTC', '290', 'nan']\n",
      "['2023-01-06 13:34:43 UTC', '291', '25.00000']\n",
      "['2023-01-06 13:35:00 UTC', '292', '25.00000']\n",
      "['2023-01-06 13:35:16 UTC', '293', '25.00000']\n",
      "['2023-01-06 13:35:32 UTC', '294', '25.00000']\n",
      "['2023-01-06 13:35:49 UTC', '295', '25.00000']\n",
      "['2023-01-06 13:36:24 UTC', '296', '25.00000']\n",
      "['2023-01-06 13:36:41 UTC', '297', '25.00000']\n",
      "['2023-01-06 13:36:57 UTC', '298', '25.00000']\n",
      "['2023-01-06 13:37:44 UTC', '299', '25.00000']\n",
      "['2023-01-06 13:38:00 UTC', '300', '28.00000']\n",
      "['2023-01-06 13:38:16 UTC', '301', '29.00000']\n",
      "['2023-01-06 13:38:32 UTC', '302', '60.00000']\n",
      "['2023-01-06 13:38:49 UTC', '303', '60.00000']\n",
      "['2023-01-06 13:39:05 UTC', '304', '60.00000']\n",
      "['2023-01-06 13:39:21 UTC', '305', '60.00000']\n",
      "['2023-01-06 13:39:37 UTC', '306', '56.00000']\n",
      "['2023-01-06 13:39:53 UTC', '307', '52.00000']\n",
      "['2023-01-06 13:40:10 UTC', '308', '48.00000']\n",
      "['2023-01-06 13:40:26 UTC', '309', '45.00000']\n",
      "['2023-01-06 13:40:42 UTC', '310', '43.00000']\n",
      "['2023-01-06 13:40:58 UTC', '311', '41.00000']\n",
      "['2023-01-06 13:41:14 UTC', '312', '40.00000']\n",
      "['2023-01-06 13:41:30 UTC', '313', '38.00000']\n",
      "['2023-01-06 13:41:46 UTC', '314', '36.00000']\n",
      "['2023-01-06 13:42:03 UTC', '315', '35.00000']\n",
      "['2023-01-06 13:42:19 UTC', '316', '34.00000']\n",
      "['2023-01-06 13:42:35 UTC', '317', '33.00000']\n",
      "['2023-01-06 13:42:51 UTC', '318', '33.00000']\n",
      "['2023-01-06 13:43:08 UTC', '319', '32.00000']\n",
      "['2023-01-06 13:43:24 UTC', '320', '31.00000']\n",
      "['2023-01-06 13:43:40 UTC', '321', '31.00000']\n",
      "['2023-01-06 13:44:06 UTC', '322', '30.00000']\n",
      "['2023-01-06 13:44:22 UTC', '323', '30.00000']\n",
      "['2023-01-06 13:44:38 UTC', '324', '29.00000']\n",
      "['2023-01-06 13:44:55 UTC', '325', '29.00000']\n",
      "['2023-01-06 13:45:11 UTC', '326', '29.00000']\n",
      "['2023-01-06 13:45:27 UTC', '327', '28.00000']\n",
      "['2023-01-06 13:45:43 UTC', '328', '28.00000']\n",
      "['2023-01-06 13:45:59 UTC', '329', '28.00000']\n",
      "['2023-01-06 13:46:15 UTC', '330', '28.00000']\n",
      "['2023-01-06 13:46:32 UTC', '331', '28.00000']\n",
      "['2023-01-06 13:46:48 UTC', '332', '28.00000']\n",
      "['2023-01-06 13:47:04 UTC', '333', '28.00000']\n",
      "['2023-01-06 13:47:20 UTC', '334', '28.00000']\n",
      "['2023-01-06 13:47:36 UTC', '335', '28.00000']\n",
      "['2023-01-06 13:47:52 UTC', '336', '27.00000']\n",
      "['2023-01-06 13:48:08 UTC', '337', '27.00000']\n",
      "['2023-01-06 13:48:24 UTC', '338', '27.00000']\n",
      "['2023-01-06 13:48:41 UTC', '339', '27.00000']\n",
      "['2023-01-06 13:48:57 UTC', '340', '27.00000']\n",
      "['2023-01-06 13:49:13 UTC', '341', '27.00000']\n",
      "['2023-01-06 13:49:29 UTC', '342', '27.00000']\n",
      "['2023-01-06 13:49:46 UTC', '343', '27.00000']\n",
      "['2023-01-06 13:50:02 UTC', '344', '27.00000']\n",
      "['2023-01-06 13:50:18 UTC', '345', '27.00000']\n",
      "['2023-01-06 13:50:34 UTC', '346', '26.00000']\n"
     ]
    }
   ],
   "source": [
    "import csv\n",
    " \n",
    "# opening the CSV file\n",
    "with open('dataread.csv', mode ='r')as file:\n",
    "   \n",
    "  # reading the CSV file\n",
    "  csvFile = csv.reader(file)\n",
    " \n",
    "  # displaying the contents of the CSV file\n",
    "  for lines in csvFile:\n",
    "        print(lines)"
   ]
  },
  {
   "cell_type": "code",
   "execution_count": 2,
   "id": "ee5d237a",
   "metadata": {},
   "outputs": [
    {
     "name": "stdout",
     "output_type": "stream",
     "text": [
      "                 created_at  entry_id  field1\n",
      "0   2022-12-29 13:26:32 UTC       247    27.0\n",
      "1   2022-12-29 13:26:48 UTC       248    27.0\n",
      "2   2022-12-29 13:27:04 UTC       249    27.0\n",
      "3   2022-12-29 13:27:20 UTC       250    27.0\n",
      "4   2022-12-29 13:27:36 UTC       251    27.0\n",
      "..                      ...       ...     ...\n",
      "95  2023-01-06 13:49:29 UTC       342    27.0\n",
      "96  2023-01-06 13:49:46 UTC       343    27.0\n",
      "97  2023-01-06 13:50:02 UTC       344    27.0\n",
      "98  2023-01-06 13:50:18 UTC       345    27.0\n",
      "99  2023-01-06 13:50:34 UTC       346    26.0\n",
      "\n",
      "[100 rows x 3 columns]\n"
     ]
    }
   ],
   "source": [
    "import pandas as pd\n",
    "pd = pd.read_csv('dataread.csv')\n",
    "pd.head()\n",
    "print(pd)"
   ]
  },
  {
   "cell_type": "code",
   "execution_count": 4,
   "id": "45f5b175",
   "metadata": {},
   "outputs": [
    {
     "data": {
      "image/png": "[encoded data removed]",
      "text/plain": [
       "<Figure size 432x288 with 1 Axes>"
      ]
     },
     "metadata": {},
     "output_type": "display_data"
    }
   ],
   "source": [
    "import seaborn as sns\n",
    "import matplotlib.pyplot as plt\n",
    "sns.set_style('whitegrid')\n",
    "plt.plot(pd.created_at,pd.entry_id,pd.field1);"
   ]
  },
  {
   "cell_type": "code",
   "execution_count": 40,
   "id": "d4cc37ec",
   "metadata": {},
   "outputs": [],
   "source": [
    "#import matplotlib.pyplot as plt\n",
    "#import seaborn as sns\n",
    "#import seaborn as sb\n",
    "#df = sns.load_csv(\"dataread.csv\")\n",
    "#print (df)"
   ]
  },
  {
   "cell_type": "code",
   "execution_count": 49,
   "id": "660c573f",
   "metadata": {},
   "outputs": [
    {
     "name": "stdout",
     "output_type": "stream",
     "text": [
      "['created_at', 'entry_id', 'field1']\n",
      "['2022-12-29 12:57:36 UTC', '208', '28.00000']\n",
      "['2022-12-29 12:57:52 UTC', '209', '28.00000']\n",
      "['2022-12-29 12:58:09 UTC', '210', '28.00000']\n",
      "['2022-12-29 12:58:25 UTC', '211', '27.00000']\n",
      "['2022-12-29 12:58:41 UTC', '212', '27.00000']\n",
      "['2022-12-29 12:58:57 UTC', '213', '27.00000']\n",
      "['2022-12-29 12:59:13 UTC', '214', '27.00000']\n",
      "['2022-12-29 12:59:29 UTC', '215', '27.00000']\n",
      "['2022-12-29 13:18:15 UTC', '216', '26.00000']\n",
      "['2022-12-29 13:18:31 UTC', '217', '26.00000']\n",
      "['2022-12-29 13:18:47 UTC', '218', '26.00000']\n",
      "['2022-12-29 13:19:03 UTC', '219', '29.00000']\n",
      "['2022-12-29 13:19:20 UTC', '220', '32.00000']\n",
      "['2022-12-29 13:19:36 UTC', '221', '30.00000']\n",
      "['2022-12-29 13:19:52 UTC', '222', '31.00000']\n",
      "['2022-12-29 13:20:08 UTC', '223', '32.00000']\n",
      "['2022-12-29 13:20:24 UTC', '224', '34.00000']\n",
      "['2022-12-29 13:20:40 UTC', '225', '34.00000']\n",
      "['2022-12-29 13:20:56 UTC', '226', '35.00000']\n",
      "['2022-12-29 13:21:12 UTC', '227', '34.00000']\n",
      "['2022-12-29 13:21:28 UTC', '228', '33.00000']\n",
      "['2022-12-29 13:21:44 UTC', '229', '31.00000']\n",
      "['2022-12-29 13:22:00 UTC', '230', '30.00000']\n",
      "['2022-12-29 13:22:16 UTC', '231', '29.00000']\n",
      "['2022-12-29 13:22:32 UTC', '232', '28.00000']\n",
      "['2022-12-29 13:22:48 UTC', '233', '28.00000']\n",
      "['2022-12-29 13:23:05 UTC', '234', '28.00000']\n",
      "['2022-12-29 13:23:20 UTC', '235', '27.00000']\n",
      "['2022-12-29 13:23:36 UTC', '236', '27.00000']\n",
      "['2022-12-29 13:23:52 UTC', '237', '27.00000']\n",
      "['2022-12-29 13:24:08 UTC', '238', '27.00000']\n",
      "['2022-12-29 13:24:24 UTC', '239', '27.00000']\n",
      "['2022-12-29 13:24:40 UTC', '240', '27.00000']\n",
      "['2022-12-29 13:24:56 UTC', '241', '27.00000']\n",
      "['2022-12-29 13:25:12 UTC', '242', '27.00000']\n",
      "['2022-12-29 13:25:28 UTC', '243', '27.00000']\n",
      "['2022-12-29 13:25:44 UTC', '244', '27.00000']\n",
      "['2022-12-29 13:26:00 UTC', '245', '27.00000']\n",
      "['2022-12-29 13:26:16 UTC', '246', '27.00000']\n",
      "['2022-12-29 13:26:32 UTC', '247', '27.00000']\n",
      "['2022-12-29 13:26:48 UTC', '248', '27.00000']\n",
      "['2022-12-29 13:27:04 UTC', '249', '27.00000']\n",
      "['2022-12-29 13:27:20 UTC', '250', '27.00000']\n",
      "['2022-12-29 13:27:36 UTC', '251', '27.00000']\n",
      "['2022-12-29 13:27:52 UTC', '252', '27.00000']\n",
      "['2022-12-29 13:28:08 UTC', '253', '27.00000']\n",
      "['2022-12-29 13:28:24 UTC', '254', '26.00000']\n",
      "['2022-12-29 13:28:40 UTC', '255', '26.00000']\n",
      "['2022-12-29 13:28:56 UTC', '256', '26.00000']\n",
      "['2022-12-29 13:29:12 UTC', '257', '26.00000']\n",
      "['2022-12-29 13:29:28 UTC', '258', '26.00000']\n",
      "['2022-12-29 13:29:44 UTC', '259', '26.00000']\n",
      "['2022-12-29 13:30:00 UTC', '260', '26.00000']\n",
      "['2022-12-29 13:30:16 UTC', '261', '26.00000']\n",
      "['2022-12-29 13:30:32 UTC', '262', '26.00000']\n",
      "['2022-12-29 13:30:48 UTC', '263', '26.00000']\n",
      "['2022-12-29 13:31:04 UTC', '264', '26.00000']\n",
      "['2022-12-29 13:31:20 UTC', '265', '26.00000']\n",
      "['2022-12-29 13:31:36 UTC', '266', '26.00000']\n",
      "['2022-12-29 13:31:52 UTC', '267', '26.00000']\n",
      "['2022-12-29 13:32:08 UTC', '268', '26.00000']\n",
      "['2022-12-29 13:32:24 UTC', '269', '26.00000']\n",
      "['2022-12-29 13:32:40 UTC', '270', '26.00000']\n",
      "['2022-12-29 13:32:56 UTC', '271', '26.00000']\n",
      "['2022-12-29 13:33:12 UTC', '272', '26.00000']\n",
      "['2022-12-29 13:33:28 UTC', '273', '26.00000']\n",
      "['2022-12-29 13:33:44 UTC', '274', '26.00000']\n",
      "['2022-12-29 13:34:00 UTC', '275', '26.00000']\n",
      "['2022-12-29 13:34:16 UTC', '276', '26.00000']\n",
      "['2022-12-29 13:34:32 UTC', '277', '26.00000']\n",
      "['2022-12-29 13:34:48 UTC', '278', '26.00000']\n",
      "['2022-12-29 13:35:04 UTC', '279', '26.00000']\n",
      "['2022-12-29 13:35:20 UTC', '280', '26.00000']\n",
      "['2022-12-29 13:35:36 UTC', '281', '26.00000']\n",
      "['2022-12-29 13:35:52 UTC', '282', '26.00000']\n",
      "['2022-12-29 13:36:08 UTC', '283', '26.00000']\n",
      "['2022-12-29 13:36:24 UTC', '284', '26.00000']\n",
      "['2022-12-29 13:36:40 UTC', '285', '26.00000']\n",
      "['2022-12-29 13:36:56 UTC', '286', '26.00000']\n",
      "['2022-12-29 13:37:12 UTC', '287', '26.00000']\n",
      "['2022-12-29 13:37:28 UTC', '288', '26.00000']\n",
      "['2023-01-06 13:33:11 UTC', '289', '24.00000']\n",
      "['2023-01-06 13:34:27 UTC', '290', 'nan']\n",
      "['2023-01-06 13:34:43 UTC', '291', '25.00000']\n",
      "['2023-01-06 13:35:00 UTC', '292', '25.00000']\n",
      "['2023-01-06 13:35:16 UTC', '293', '25.00000']\n",
      "['2023-01-06 13:35:32 UTC', '294', '25.00000']\n",
      "['2023-01-06 13:35:49 UTC', '295', '25.00000']\n",
      "['2023-01-06 13:36:24 UTC', '296', '25.00000']\n",
      "['2023-01-06 13:36:41 UTC', '297', '25.00000']\n",
      "['2023-01-06 13:36:57 UTC', '298', '25.00000']\n",
      "['2023-01-06 13:37:44 UTC', '299', '25.00000']\n",
      "['2023-01-06 13:38:00 UTC', '300', '28.00000']\n",
      "['2023-01-06 13:38:16 UTC', '301', '29.00000']\n",
      "['2023-01-06 13:38:32 UTC', '302', '60.00000']\n",
      "['2023-01-06 13:38:49 UTC', '303', '60.00000']\n",
      "['2023-01-06 13:39:05 UTC', '304', '60.00000']\n",
      "['2023-01-06 13:39:21 UTC', '305', '60.00000']\n",
      "['2023-01-06 13:39:37 UTC', '306', '56.00000']\n",
      "['2023-01-06 13:39:53 UTC', '307', '52.00000']\n"
     ]
    }
   ],
   "source": [
    "import csv\n",
    " \n",
    "# opening the CSV file\n",
    "with open('1.csv', mode ='r')as file:\n",
    "   \n",
    "  # reading the CSV file\n",
    "  csvFile = csv.reader(file)\n",
    " \n",
    "  # displaying the contents of the CSV file\n",
    "  for lines in csvFile:\n",
    "        print(lines)"
   ]
  },
  {
   "cell_type": "code",
   "execution_count": 51,
   "id": "2566c301",
   "metadata": {},
   "outputs": [
    {
     "name": "stdout",
     "output_type": "stream",
     "text": [
      "                 created_at  entry_id  field1\n",
      "0   2022-12-29 12:57:36 UTC       208    28.0\n",
      "1   2022-12-29 12:57:52 UTC       209    28.0\n",
      "2   2022-12-29 12:58:09 UTC       210    28.0\n",
      "3   2022-12-29 12:58:25 UTC       211    27.0\n",
      "4   2022-12-29 12:58:41 UTC       212    27.0\n",
      "..                      ...       ...     ...\n",
      "95  2023-01-06 13:38:49 UTC       303    60.0\n",
      "96  2023-01-06 13:39:05 UTC       304    60.0\n",
      "97  2023-01-06 13:39:21 UTC       305    60.0\n",
      "98  2023-01-06 13:39:37 UTC       306    56.0\n",
      "99  2023-01-06 13:39:53 UTC       307    52.0\n",
      "\n",
      "[100 rows x 3 columns]\n"
     ]
    }
   ],
   "source": [
    "import pandas as pd\n",
    "read = pd.read_csv('1.csv')\n",
    "read.head()\n",
    "print(read)"
   ]
  },
  {
   "cell_type": "code",
   "execution_count": 52,
   "id": "6582a7c7",
   "metadata": {},
   "outputs": [
    {
     "data": {
      "image/png": "[encoded data removed]",
      "text/plain": [
       "<Figure size 432x288 with 1 Axes>"
      ]
     },
     "metadata": {},
     "output_type": "display_data"
    }
   ],
   "source": [
    "import seaborn as sns\n",
    "import matplotlib.pyplot as plt\n",
    "sns.set_style('whitegrid')\n",
    "plt.plot(read.entry_id,read.field1);"
   ]
  },
  {
   "cell_type": "code",
   "execution_count": 53,
   "id": "3ec9d811",
   "metadata": {},
   "outputs": [
    {
     "name": "stdout",
     "output_type": "stream",
     "text": [
      "['created_at', 'entry_id', 'field1']\n",
      "['2022-12-29 13:21:44 UTC', '229', '31.00000']\n",
      "['2022-12-29 13:22:00 UTC', '230', '30.00000']\n",
      "['2022-12-29 13:22:16 UTC', '231', '29.00000']\n",
      "['2022-12-29 13:22:32 UTC', '232', '28.00000']\n",
      "['2022-12-29 13:22:48 UTC', '233', '28.00000']\n",
      "['2022-12-29 13:23:05 UTC', '234', '28.00000']\n",
      "['2022-12-29 13:23:20 UTC', '235', '27.00000']\n",
      "['2022-12-29 13:23:36 UTC', '236', '27.00000']\n",
      "['2022-12-29 13:23:52 UTC', '237', '27.00000']\n",
      "['2022-12-29 13:24:08 UTC', '238', '27.00000']\n",
      "['2022-12-29 13:24:24 UTC', '239', '27.00000']\n",
      "['2022-12-29 13:24:40 UTC', '240', '27.00000']\n",
      "['2022-12-29 13:24:56 UTC', '241', '27.00000']\n",
      "['2022-12-29 13:25:12 UTC', '242', '27.00000']\n",
      "['2022-12-29 13:25:28 UTC', '243', '27.00000']\n",
      "['2022-12-29 13:25:44 UTC', '244', '27.00000']\n",
      "['2022-12-29 13:26:00 UTC', '245', '27.00000']\n",
      "['2022-12-29 13:26:16 UTC', '246', '27.00000']\n",
      "['2022-12-29 13:26:32 UTC', '247', '27.00000']\n",
      "['2022-12-29 13:26:48 UTC', '248', '27.00000']\n",
      "['2022-12-29 13:27:04 UTC', '249', '27.00000']\n",
      "['2022-12-29 13:27:20 UTC', '250', '27.00000']\n",
      "['2022-12-29 13:27:36 UTC', '251', '27.00000']\n",
      "['2022-12-29 13:27:52 UTC', '252', '27.00000']\n",
      "['2022-12-29 13:28:08 UTC', '253', '27.00000']\n",
      "['2022-12-29 13:28:24 UTC', '254', '26.00000']\n",
      "['2022-12-29 13:28:40 UTC', '255', '26.00000']\n",
      "['2022-12-29 13:28:56 UTC', '256', '26.00000']\n",
      "['2022-12-29 13:29:12 UTC', '257', '26.00000']\n",
      "['2022-12-29 13:29:28 UTC', '258', '26.00000']\n",
      "['2022-12-29 13:29:44 UTC', '259', '26.00000']\n",
      "['2022-12-29 13:30:00 UTC', '260', '26.00000']\n",
      "['2022-12-29 13:30:16 UTC', '261', '26.00000']\n",
      "['2022-12-29 13:30:32 UTC', '262', '26.00000']\n",
      "['2022-12-29 13:30:48 UTC', '263', '26.00000']\n",
      "['2022-12-29 13:31:04 UTC', '264', '26.00000']\n",
      "['2022-12-29 13:31:20 UTC', '265', '26.00000']\n",
      "['2022-12-29 13:31:36 UTC', '266', '26.00000']\n",
      "['2022-12-29 13:31:52 UTC', '267', '26.00000']\n",
      "['2022-12-29 13:32:08 UTC', '268', '26.00000']\n",
      "['2022-12-29 13:32:24 UTC', '269', '26.00000']\n",
      "['2022-12-29 13:32:40 UTC', '270', '26.00000']\n",
      "['2022-12-29 13:32:56 UTC', '271', '26.00000']\n",
      "['2022-12-29 13:33:12 UTC', '272', '26.00000']\n",
      "['2022-12-29 13:33:28 UTC', '273', '26.00000']\n",
      "['2022-12-29 13:33:44 UTC', '274', '26.00000']\n",
      "['2022-12-29 13:34:00 UTC', '275', '26.00000']\n",
      "['2022-12-29 13:34:16 UTC', '276', '26.00000']\n",
      "['2022-12-29 13:34:32 UTC', '277', '26.00000']\n",
      "['2022-12-29 13:34:48 UTC', '278', '26.00000']\n",
      "['2022-12-29 13:35:04 UTC', '279', '26.00000']\n",
      "['2022-12-29 13:35:20 UTC', '280', '26.00000']\n",
      "['2022-12-29 13:35:36 UTC', '281', '26.00000']\n",
      "['2022-12-29 13:35:52 UTC', '282', '26.00000']\n",
      "['2022-12-29 13:36:08 UTC', '283', '26.00000']\n",
      "['2022-12-29 13:36:24 UTC', '284', '26.00000']\n",
      "['2022-12-29 13:36:40 UTC', '285', '26.00000']\n",
      "['2022-12-29 13:36:56 UTC', '286', '26.00000']\n",
      "['2022-12-29 13:37:12 UTC', '287', '26.00000']\n",
      "['2022-12-29 13:37:28 UTC', '288', '26.00000']\n",
      "['2023-01-06 13:33:11 UTC', '289', '24.00000']\n",
      "['2023-01-06 13:34:27 UTC', '290', 'nan']\n",
      "['2023-01-06 13:34:43 UTC', '291', '25.00000']\n",
      "['2023-01-06 13:35:00 UTC', '292', '25.00000']\n",
      "['2023-01-06 13:35:16 UTC', '293', '25.00000']\n",
      "['2023-01-06 13:35:32 UTC', '294', '25.00000']\n",
      "['2023-01-06 13:35:49 UTC', '295', '25.00000']\n",
      "['2023-01-06 13:36:24 UTC', '296', '25.00000']\n",
      "['2023-01-06 13:36:41 UTC', '297', '25.00000']\n",
      "['2023-01-06 13:36:57 UTC', '298', '25.00000']\n",
      "['2023-01-06 13:37:44 UTC', '299', '25.00000']\n",
      "['2023-01-06 13:38:00 UTC', '300', '28.00000']\n",
      "['2023-01-06 13:38:16 UTC', '301', '29.00000']\n",
      "['2023-01-06 13:38:32 UTC', '302', '60.00000']\n",
      "['2023-01-06 13:38:49 UTC', '303', '60.00000']\n",
      "['2023-01-06 13:39:05 UTC', '304', '60.00000']\n",
      "['2023-01-06 13:39:21 UTC', '305', '60.00000']\n",
      "['2023-01-06 13:39:37 UTC', '306', '56.00000']\n",
      "['2023-01-06 13:39:53 UTC', '307', '52.00000']\n",
      "['2023-01-06 13:40:10 UTC', '308', '48.00000']\n",
      "['2023-01-06 13:40:26 UTC', '309', '45.00000']\n",
      "['2023-01-06 13:40:42 UTC', '310', '43.00000']\n",
      "['2023-01-06 13:40:58 UTC', '311', '41.00000']\n",
      "['2023-01-06 13:41:14 UTC', '312', '40.00000']\n",
      "['2023-01-06 13:41:30 UTC', '313', '38.00000']\n",
      "['2023-01-06 13:41:46 UTC', '314', '36.00000']\n",
      "['2023-01-06 13:42:03 UTC', '315', '35.00000']\n",
      "['2023-01-06 13:42:19 UTC', '316', '34.00000']\n",
      "['2023-01-06 13:42:35 UTC', '317', '33.00000']\n",
      "['2023-01-06 13:42:51 UTC', '318', '33.00000']\n",
      "['2023-01-06 13:43:08 UTC', '319', '32.00000']\n",
      "['2023-01-06 13:43:24 UTC', '320', '31.00000']\n",
      "['2023-01-06 13:43:40 UTC', '321', '31.00000']\n",
      "['2023-01-06 13:44:06 UTC', '322', '30.00000']\n",
      "['2023-01-06 13:44:22 UTC', '323', '30.00000']\n",
      "['2023-01-06 13:44:38 UTC', '324', '29.00000']\n",
      "['2023-01-06 13:44:55 UTC', '325', '29.00000']\n",
      "['2023-01-06 13:45:11 UTC', '326', '29.00000']\n",
      "['2023-01-06 13:45:27 UTC', '327', '28.00000']\n",
      "['2023-01-06 13:45:43 UTC', '328', '28.00000']\n"
     ]
    }
   ],
   "source": [
    "import csv\n",
    " \n",
    "# opening the CSV file\n",
    "with open('temp.csv', mode ='r')as file:\n",
    "   \n",
    "  # reading the CSV file\n",
    "  csvFile = csv.reader(file)\n",
    " \n",
    "  # displaying the contents of the CSV file\n",
    "  for lines in csvFile:\n",
    "        print(lines)"
   ]
  },
  {
   "cell_type": "code",
   "execution_count": 55,
   "id": "469f0f04",
   "metadata": {},
   "outputs": [
    {
     "name": "stdout",
     "output_type": "stream",
     "text": [
      "                 created_at  entry_id  field1\n",
      "0   2022-12-29 13:21:44 UTC       229    31.0\n",
      "1   2022-12-29 13:22:00 UTC       230    30.0\n",
      "2   2022-12-29 13:22:16 UTC       231    29.0\n",
      "3   2022-12-29 13:22:32 UTC       232    28.0\n",
      "4   2022-12-29 13:22:48 UTC       233    28.0\n",
      "..                      ...       ...     ...\n",
      "95  2023-01-06 13:44:38 UTC       324    29.0\n",
      "96  2023-01-06 13:44:55 UTC       325    29.0\n",
      "97  2023-01-06 13:45:11 UTC       326    29.0\n",
      "98  2023-01-06 13:45:27 UTC       327    28.0\n",
      "99  2023-01-06 13:45:43 UTC       328    28.0\n",
      "\n",
      "[100 rows x 3 columns]\n"
     ]
    }
   ],
   "source": [
    "import pandas as pd\n",
    "temp = pd.read_csv('temp.csv')\n",
    "temp.head()\n",
    "print(temp)"
   ]
  },
  {
   "cell_type": "code",
   "execution_count": 56,
   "id": "9c3bd415",
   "metadata": {},
   "outputs": [
    {
     "data": {
      "image/png": "[encoded data removed]",
      "text/plain": [
       "<Figure size 432x288 with 1 Axes>"
      ]
     },
     "metadata": {},
     "output_type": "display_data"
    }
   ],
   "source": [
    "import seaborn as sns\n",
    "import matplotlib.pyplot as plt\n",
    "sns.set_style('whitegrid')\n",
    "plt.plot(temp.entry_id,temp.field1);"
   ]
  },
  {
   "cell_type": "code",
   "execution_count": 57,
   "id": "1ef2315c",
   "metadata": {},
   "outputs": [
    {
     "name": "stdout",
     "output_type": "stream",
     "text": [
      "['created_at', 'entry_id', 'field1']\n",
      "['2023-01-06 13:53:31 UTC', '357', '26.00000']\n",
      "['2023-01-06 13:53:47 UTC', '358', '26.00000']\n",
      "['2023-01-06 13:54:04 UTC', '359', '26.00000']\n",
      "['2023-01-06 13:54:20 UTC', '360', '26.00000']\n",
      "['2023-01-06 13:54:36 UTC', '361', '26.00000']\n",
      "['2023-01-06 13:54:52 UTC', '362', '26.00000']\n",
      "['2023-01-06 13:55:08 UTC', '363', '26.00000']\n",
      "['2023-01-06 13:55:24 UTC', '364', '26.00000']\n",
      "['2023-01-06 13:55:40 UTC', '365', '26.00000']\n",
      "['2023-01-06 13:55:56 UTC', '366', '26.00000']\n",
      "['2023-01-06 13:56:12 UTC', '367', '26.00000']\n",
      "['2023-01-06 13:56:28 UTC', '368', '26.00000']\n",
      "['2023-01-06 13:56:44 UTC', '369', '26.00000']\n",
      "['2023-01-06 13:57:00 UTC', '370', '26.00000']\n",
      "['2023-01-06 13:57:16 UTC', '371', '26.00000']\n",
      "['2023-01-06 13:57:33 UTC', '372', '26.00000']\n",
      "['2023-01-06 13:57:49 UTC', '373', '26.00000']\n",
      "['2023-01-06 13:58:05 UTC', '374', '26.00000']\n",
      "['2023-01-06 13:58:21 UTC', '375', '26.00000']\n",
      "['2023-01-06 13:58:37 UTC', '376', '26.00000']\n",
      "['2023-01-06 13:58:53 UTC', '377', '26.00000']\n",
      "['2023-01-06 13:59:09 UTC', '378', '26.00000']\n",
      "['2023-01-06 13:59:25 UTC', '379', '26.00000']\n",
      "['2023-01-06 13:59:41 UTC', '380', '26.00000']\n",
      "['2023-01-06 13:59:57 UTC', '381', '26.00000']\n",
      "['2023-01-06 14:00:13 UTC', '382', '26.00000']\n",
      "['2023-01-06 14:00:29 UTC', '383', '26.00000']\n",
      "['2023-01-06 14:00:45 UTC', '384', '26.00000']\n",
      "['2023-01-06 14:01:02 UTC', '385', '26.00000']\n",
      "['2023-01-06 14:01:18 UTC', '386', '26.00000']\n",
      "['2023-01-06 14:01:34 UTC', '387', '26.00000']\n",
      "['2023-01-06 14:01:50 UTC', '388', '26.00000']\n",
      "['2023-01-06 14:02:06 UTC', '389', '26.00000']\n",
      "['2023-01-06 14:02:22 UTC', '390', '26.00000']\n",
      "['2023-01-06 14:02:38 UTC', '391', '26.00000']\n",
      "['2023-01-06 14:02:55 UTC', '392', '26.00000']\n",
      "['2023-01-06 14:03:11 UTC', '393', '26.00000']\n",
      "['2023-01-06 14:03:27 UTC', '394', '26.00000']\n",
      "['2023-01-06 14:03:44 UTC', '395', '26.00000']\n",
      "['2023-01-06 14:04:00 UTC', '396', '26.00000']\n",
      "['2023-01-06 14:04:16 UTC', '397', '26.00000']\n",
      "['2023-01-06 14:04:32 UTC', '398', '26.00000']\n",
      "['2023-01-06 14:04:48 UTC', '399', '26.00000']\n",
      "['2023-01-06 14:05:04 UTC', '400', '26.00000']\n",
      "['2023-01-06 14:05:21 UTC', '401', '26.00000']\n",
      "['2023-01-06 14:05:37 UTC', '402', '26.00000']\n",
      "['2023-01-06 14:05:53 UTC', '403', '26.00000']\n",
      "['2023-01-06 14:06:09 UTC', '404', '26.00000']\n",
      "['2023-01-06 14:06:25 UTC', '405', '26.00000']\n",
      "['2023-01-06 14:06:41 UTC', '406', '26.00000']\n",
      "['2023-01-06 14:06:57 UTC', '407', '26.00000']\n",
      "['2023-01-06 14:07:13 UTC', '408', '26.00000']\n",
      "['2023-01-06 14:07:30 UTC', '409', '26.00000']\n",
      "['2023-01-06 14:07:46 UTC', '410', '26.00000']\n",
      "['2023-01-06 14:08:02 UTC', '411', '26.00000']\n",
      "['2023-01-06 14:08:18 UTC', '412', '26.00000']\n",
      "['2023-01-06 14:08:34 UTC', '413', '26.00000']\n",
      "['2023-01-06 14:08:50 UTC', '414', '26.00000']\n",
      "['2023-01-06 14:09:06 UTC', '415', '26.00000']\n",
      "['2023-01-06 14:09:22 UTC', '416', '26.00000']\n",
      "['2023-01-06 14:09:39 UTC', '417', '26.00000']\n",
      "['2023-01-06 14:09:55 UTC', '418', '26.00000']\n",
      "['2023-01-06 14:10:11 UTC', '419', '26.00000']\n",
      "['2023-01-06 14:10:27 UTC', '420', '26.00000']\n",
      "['2023-01-06 14:10:43 UTC', '421', '26.00000']\n",
      "['2023-01-06 14:10:59 UTC', '422', '26.00000']\n",
      "['2023-01-06 14:11:15 UTC', '423', '26.00000']\n",
      "['2023-01-06 14:11:31 UTC', '424', '26.00000']\n",
      "['2023-01-06 14:11:47 UTC', '425', '26.00000']\n",
      "['2023-01-06 14:12:04 UTC', '426', '26.00000']\n",
      "['2023-01-06 14:12:20 UTC', '427', '26.00000']\n",
      "['2023-01-06 14:12:36 UTC', '428', '26.00000']\n",
      "['2023-01-06 14:12:52 UTC', '429', '26.00000']\n",
      "['2023-01-06 14:13:08 UTC', '430', '26.00000']\n",
      "['2023-01-06 14:13:24 UTC', '431', '26.00000']\n",
      "['2023-01-06 15:35:14 UTC', '432', '25.00000']\n",
      "['2023-01-06 15:35:31 UTC', '433', '25.00000']\n",
      "['2023-01-06 15:35:47 UTC', '434', '25.00000']\n",
      "['2023-01-06 15:36:04 UTC', '435', '27.00000']\n",
      "['2023-01-06 15:36:20 UTC', '436', '28.00000']\n",
      "['2023-01-06 15:36:36 UTC', '437', '33.00000']\n",
      "['2023-01-06 15:36:53 UTC', '438', '34.00000']\n",
      "['2023-01-06 15:37:09 UTC', '439', '40.00000']\n",
      "['2023-01-06 15:37:26 UTC', '440', '55.00000']\n",
      "['2023-01-06 15:37:42 UTC', '441', '60.00000']\n",
      "['2023-01-06 15:37:59 UTC', '442', '60.00000']\n",
      "['2023-01-06 15:38:15 UTC', '443', '60.00000']\n",
      "['2023-01-06 15:38:32 UTC', '444', '60.00000']\n",
      "['2023-01-06 15:38:48 UTC', '445', '60.00000']\n",
      "['2023-01-06 15:39:05 UTC', '446', '60.00000']\n",
      "['2023-01-06 15:39:21 UTC', '447', '59.00000']\n",
      "['2023-01-06 15:39:39 UTC', '448', '47.00000']\n",
      "['2023-01-06 15:39:55 UTC', '449', '44.00000']\n",
      "['2023-01-06 15:40:12 UTC', '450', '42.00000']\n",
      "['2023-01-06 15:42:32 UTC', '451', '13.00000']\n",
      "['2023-01-06 15:42:48 UTC', '452', '11.00000']\n",
      "['2023-01-06 15:43:09 UTC', '453', '14.00000']\n",
      "['2023-01-06 15:43:25 UTC', '454', '22.00000']\n",
      "['2023-01-06 15:43:42 UTC', '455', '23.00000']\n",
      "['2023-01-06 15:43:58 UTC', '456', '32.00000']\n"
     ]
    }
   ],
   "source": [
    "import csv\n",
    " \n",
    "# opening the CSV file\n",
    "with open('lowtemp.csv', mode ='r')as file:\n",
    "   \n",
    "  # reading the CSV file\n",
    "  csvFile = csv.reader(file)\n",
    " \n",
    "  # displaying the contents of the CSV file\n",
    "  for lines in csvFile:\n",
    "        print(lines)"
   ]
  },
  {
   "cell_type": "code",
   "execution_count": 58,
   "id": "dfefeb7a",
   "metadata": {},
   "outputs": [
    {
     "name": "stdout",
     "output_type": "stream",
     "text": [
      "                 created_at  entry_id  field1\n",
      "0   2023-01-06 13:53:31 UTC       357    26.0\n",
      "1   2023-01-06 13:53:47 UTC       358    26.0\n",
      "2   2023-01-06 13:54:04 UTC       359    26.0\n",
      "3   2023-01-06 13:54:20 UTC       360    26.0\n",
      "4   2023-01-06 13:54:36 UTC       361    26.0\n",
      "..                      ...       ...     ...\n",
      "95  2023-01-06 15:42:48 UTC       452    11.0\n",
      "96  2023-01-06 15:43:09 UTC       453    14.0\n",
      "97  2023-01-06 15:43:25 UTC       454    22.0\n",
      "98  2023-01-06 15:43:42 UTC       455    23.0\n",
      "99  2023-01-06 15:43:58 UTC       456    32.0\n",
      "\n",
      "[100 rows x 3 columns]\n"
     ]
    }
   ],
   "source": [
    "import pandas as pd\n",
    "low= pd.read_csv('lowtemp.csv')\n",
    "low.head()\n",
    "print(low)"
   ]
  },
  {
   "cell_type": "code",
   "execution_count": 59,
   "id": "5766cdff",
   "metadata": {},
   "outputs": [
    {
     "data": {
      "image/png": "[encoded data removed]",
      "text/plain": [
       "<Figure size 432x288 with 1 Axes>"
      ]
     },
     "metadata": {},
     "output_type": "display_data"
    }
   ],
   "source": [
    "import seaborn as sns\n",
    "import matplotlib.pyplot as plt\n",
    "sns.set_style('whitegrid')\n",
    "plt.plot(low.entry_id,low.field1);"
   ]
  },
  {
   "cell_type": "code",
   "execution_count": 10,
   "id": "a7b88d1d",
   "metadata": {},
   "outputs": [
    {
     "ename": "KeyError",
     "evalue": "\"None of [Index(['temperature', 'humidity'], dtype='object')] are in the [columns]\"",
     "output_type": "error",
     "traceback": [
      "\u001b[1;31m---------------------------------------------------------------------------\u001b[0m",
      "\u001b[1;31mKeyError\u001b[0m                                  Traceback (most recent call last)",
      "Input \u001b[1;32mIn [10]\u001b[0m, in \u001b[0;36m<cell line: 8>\u001b[1;34m()\u001b[0m\n\u001b[0;32m      5\u001b[0m df \u001b[38;5;241m=\u001b[39m pd\u001b[38;5;241m.\u001b[39mread_csv(\u001b[38;5;124m'\u001b[39m\u001b[38;5;124mread3.csv\u001b[39m\u001b[38;5;124m'\u001b[39m)\n\u001b[0;32m      7\u001b[0m \u001b[38;5;66;03m# Select the features\u001b[39;00m\n\u001b[1;32m----> 8\u001b[0m X \u001b[38;5;241m=\u001b[39m \u001b[43mdf\u001b[49m\u001b[43m[\u001b[49m\u001b[43m[\u001b[49m\u001b[38;5;124;43m'\u001b[39;49m\u001b[38;5;124;43mtemperature\u001b[39;49m\u001b[38;5;124;43m'\u001b[39;49m\u001b[43m,\u001b[49m\u001b[43m \u001b[49m\u001b[38;5;124;43m'\u001b[39;49m\u001b[38;5;124;43mhumidity\u001b[39;49m\u001b[38;5;124;43m'\u001b[39;49m\u001b[43m]\u001b[49m\u001b[43m]\u001b[49m\n\u001b[0;32m     10\u001b[0m \u001b[38;5;66;03m# Select the target\u001b[39;00m\n\u001b[0;32m     11\u001b[0m y \u001b[38;5;241m=\u001b[39m df[\u001b[38;5;124m'\u001b[39m\u001b[38;5;124mtarget\u001b[39m\u001b[38;5;124m'\u001b[39m]\n",
      "File \u001b[1;32m~\\anaconda3\\lib\\site-packages\\pandas\\core\\frame.py:3511\u001b[0m, in \u001b[0;36mDataFrame.__getitem__\u001b[1;34m(self, key)\u001b[0m\n\u001b[0;32m   3509\u001b[0m     \u001b[38;5;28;01mif\u001b[39;00m is_iterator(key):\n\u001b[0;32m   3510\u001b[0m         key \u001b[38;5;241m=\u001b[39m \u001b[38;5;28mlist\u001b[39m(key)\n\u001b[1;32m-> 3511\u001b[0m     indexer \u001b[38;5;241m=\u001b[39m \u001b[38;5;28;43mself\u001b[39;49m\u001b[38;5;241;43m.\u001b[39;49m\u001b[43mcolumns\u001b[49m\u001b[38;5;241;43m.\u001b[39;49m\u001b[43m_get_indexer_strict\u001b[49m\u001b[43m(\u001b[49m\u001b[43mkey\u001b[49m\u001b[43m,\u001b[49m\u001b[43m \u001b[49m\u001b[38;5;124;43m\"\u001b[39;49m\u001b[38;5;124;43mcolumns\u001b[39;49m\u001b[38;5;124;43m\"\u001b[39;49m\u001b[43m)\u001b[49m[\u001b[38;5;241m1\u001b[39m]\n\u001b[0;32m   3513\u001b[0m \u001b[38;5;66;03m# take() does not accept boolean indexers\u001b[39;00m\n\u001b[0;32m   3514\u001b[0m \u001b[38;5;28;01mif\u001b[39;00m \u001b[38;5;28mgetattr\u001b[39m(indexer, \u001b[38;5;124m\"\u001b[39m\u001b[38;5;124mdtype\u001b[39m\u001b[38;5;124m\"\u001b[39m, \u001b[38;5;28;01mNone\u001b[39;00m) \u001b[38;5;241m==\u001b[39m \u001b[38;5;28mbool\u001b[39m:\n",
      "File \u001b[1;32m~\\anaconda3\\lib\\site-packages\\pandas\\core\\indexes\\base.py:5782\u001b[0m, in \u001b[0;36mIndex._get_indexer_strict\u001b[1;34m(self, key, axis_name)\u001b[0m\n\u001b[0;32m   5779\u001b[0m \u001b[38;5;28;01melse\u001b[39;00m:\n\u001b[0;32m   5780\u001b[0m     keyarr, indexer, new_indexer \u001b[38;5;241m=\u001b[39m \u001b[38;5;28mself\u001b[39m\u001b[38;5;241m.\u001b[39m_reindex_non_unique(keyarr)\n\u001b[1;32m-> 5782\u001b[0m \u001b[38;5;28;43mself\u001b[39;49m\u001b[38;5;241;43m.\u001b[39;49m\u001b[43m_raise_if_missing\u001b[49m\u001b[43m(\u001b[49m\u001b[43mkeyarr\u001b[49m\u001b[43m,\u001b[49m\u001b[43m \u001b[49m\u001b[43mindexer\u001b[49m\u001b[43m,\u001b[49m\u001b[43m \u001b[49m\u001b[43maxis_name\u001b[49m\u001b[43m)\u001b[49m\n\u001b[0;32m   5784\u001b[0m keyarr \u001b[38;5;241m=\u001b[39m \u001b[38;5;28mself\u001b[39m\u001b[38;5;241m.\u001b[39mtake(indexer)\n\u001b[0;32m   5785\u001b[0m \u001b[38;5;28;01mif\u001b[39;00m \u001b[38;5;28misinstance\u001b[39m(key, Index):\n\u001b[0;32m   5786\u001b[0m     \u001b[38;5;66;03m# GH 42790 - Preserve name from an Index\u001b[39;00m\n",
      "File \u001b[1;32m~\\anaconda3\\lib\\site-packages\\pandas\\core\\indexes\\base.py:5842\u001b[0m, in \u001b[0;36mIndex._raise_if_missing\u001b[1;34m(self, key, indexer, axis_name)\u001b[0m\n\u001b[0;32m   5840\u001b[0m     \u001b[38;5;28;01mif\u001b[39;00m use_interval_msg:\n\u001b[0;32m   5841\u001b[0m         key \u001b[38;5;241m=\u001b[39m \u001b[38;5;28mlist\u001b[39m(key)\n\u001b[1;32m-> 5842\u001b[0m     \u001b[38;5;28;01mraise\u001b[39;00m \u001b[38;5;167;01mKeyError\u001b[39;00m(\u001b[38;5;124mf\u001b[39m\u001b[38;5;124m\"\u001b[39m\u001b[38;5;124mNone of [\u001b[39m\u001b[38;5;132;01m{\u001b[39;00mkey\u001b[38;5;132;01m}\u001b[39;00m\u001b[38;5;124m] are in the [\u001b[39m\u001b[38;5;132;01m{\u001b[39;00maxis_name\u001b[38;5;132;01m}\u001b[39;00m\u001b[38;5;124m]\u001b[39m\u001b[38;5;124m\"\u001b[39m)\n\u001b[0;32m   5844\u001b[0m not_found \u001b[38;5;241m=\u001b[39m \u001b[38;5;28mlist\u001b[39m(ensure_index(key)[missing_mask\u001b[38;5;241m.\u001b[39mnonzero()[\u001b[38;5;241m0\u001b[39m]]\u001b[38;5;241m.\u001b[39munique())\n\u001b[0;32m   5845\u001b[0m \u001b[38;5;28;01mraise\u001b[39;00m \u001b[38;5;167;01mKeyError\u001b[39;00m(\u001b[38;5;124mf\u001b[39m\u001b[38;5;124m\"\u001b[39m\u001b[38;5;132;01m{\u001b[39;00mnot_found\u001b[38;5;132;01m}\u001b[39;00m\u001b[38;5;124m not in index\u001b[39m\u001b[38;5;124m\"\u001b[39m)\n",
      "\u001b[1;31mKeyError\u001b[0m: \"None of [Index(['temperature', 'humidity'], dtype='object')] are in the [columns]\""
     ]
    }
   ],
   "source": [
    "import numpy as np\n",
    "import pandas as pd\n",
    "\n",
    "# Load the data\n",
    "df = pd.read_csv('read3.csv')\n",
    "\n",
    "# Select the features\n",
    "X = df[['temperature', 'humidity']]\n",
    "\n",
    "# Select the target\n",
    "y = df['target']\n",
    "\n",
    "# Add a constant term to the features\n",
    "X = sm.add_constant(X)\n",
    "\n",
    "# Create the model\n",
    "model = sm.OLS(y, X)\n",
    "\n",
    "# Fit the model\n",
    "results = model.fit()\n",
    "\n",
    "# Print the summary\n",
    "print(results.summary())\n"
   ]
  },
  {
   "cell_type": "code",
   "execution_count": 4,
   "id": "d8c3df83",
   "metadata": {},
   "outputs": [
    {
     "name": "stdout",
     "output_type": "stream",
     "text": [
      "['created_at', 'entry_id', 'Temp', 'Humid']\n",
      "['2023-01-07 13:51:53 UTC', '13', '29', '56']\n",
      "['2023-01-07 13:52:09 UTC', '14', '30', '51']\n",
      "['2023-01-07 13:52:24 UTC', '15', '30', '50']\n",
      "['2023-01-07 13:52:39 UTC', '16', '30', '51']\n",
      "['2023-01-07 13:52:55 UTC', '17', '52', '14']\n",
      "['2023-01-07 13:53:10 UTC', '18', '60', '5']\n",
      "['2023-01-07 13:53:25 UTC', '19', '60', '3']\n",
      "['2023-01-07 13:53:41 UTC', '20', '60', '3']\n",
      "['2023-01-07 13:53:56 UTC', '21', '60', '3']\n",
      "['2023-01-07 13:54:11 UTC', '22', '60', '3']\n",
      "['2023-01-07 13:54:26 UTC', '23', '60', '3']\n",
      "['2023-01-07 13:54:42 UTC', '24', '60', '5']\n",
      "['2023-01-07 13:54:57 UTC', '25', '60', '3']\n",
      "['2023-01-07 13:55:12 UTC', '26', '44', '23']\n",
      "['2023-01-07 13:55:27 UTC', '27', '36', '35']\n",
      "['2023-01-07 13:55:43 UTC', '28', '34', '41']\n",
      "['2023-01-07 13:55:58 UTC', '29', '33', '54']\n",
      "['2023-01-07 13:56:14 UTC', '30', '32', '48']\n",
      "['2023-01-07 13:56:29 UTC', '31', '31', '47']\n",
      "['2023-01-07 13:56:44 UTC', '32', '31', '47']\n",
      "['2023-01-07 13:57:00 UTC', '33', '30', '47']\n",
      "['2023-01-07 13:57:15 UTC', '34', '30', '47']\n",
      "['2023-01-07 13:57:30 UTC', '35', '29', '48']\n",
      "['2023-01-07 13:57:47 UTC', '36', '29', '50']\n",
      "['2023-01-07 13:58:11 UTC', '37', '28', '48']\n",
      "['2023-01-07 13:58:35 UTC', '38', '28', '48']\n",
      "['2023-01-07 13:59:00 UTC', '39', '26', '51']\n",
      "['2023-01-07 13:59:15 UTC', '40', '26', '52']\n",
      "['2023-01-07 13:59:31 UTC', '41', '25', '61']\n",
      "['2023-01-07 13:59:47 UTC', '42', '25', '59']\n",
      "['2023-01-07 14:00:02 UTC', '43', '24', '65']\n",
      "['2023-01-07 14:00:20 UTC', '44', '24', '61']\n",
      "['2023-01-07 14:00:35 UTC', '45', '24', '61']\n",
      "['2023-01-07 14:03:53 UTC', '46', '10', '20']\n",
      "['2023-01-07 14:04:10 UTC', '47', '10', '20']\n",
      "['2023-01-07 14:04:26 UTC', '48', '11', '35']\n",
      "['2023-01-07 14:04:41 UTC', '49', '2', '97']\n",
      "['2023-01-07 14:04:56 UTC', '50', '6', '98']\n",
      "['2023-01-07 14:05:11 UTC', '51', '10', '98']\n",
      "['2023-01-07 14:05:26 UTC', '52', '15', '98']\n",
      "['2023-01-07 14:05:41 UTC', '53', '17', '98']\n",
      "['2023-01-07 14:05:56 UTC', '54', '18', '98']\n",
      "['2023-01-07 14:06:12 UTC', '55', '19', '98']\n",
      "['2023-01-07 14:06:27 UTC', '56', '19', '98']\n",
      "['2023-01-07 14:06:42 UTC', '57', '21', '98']\n",
      "['2023-01-07 14:06:57 UTC', '58', '25', '73']\n",
      "['2023-01-07 14:07:12 UTC', '59', '29', '54']\n",
      "['2023-01-07 14:07:29 UTC', '60', '37', '36']\n",
      "['2023-01-07 14:07:44 UTC', '61', '48', '22']\n",
      "['2023-01-07 14:07:59 UTC', '62', '49', '40']\n",
      "['2023-01-07 14:08:14 UTC', '63', '47', '30']\n",
      "['2023-01-07 14:08:29 UTC', '64', '42', '28']\n",
      "['2023-01-07 14:08:45 UTC', '65', '38', '31']\n",
      "['2023-01-07 14:09:00 UTC', '66', '34', '36']\n",
      "['2023-01-07 14:09:15 UTC', '67', '55', '11']\n",
      "['2023-01-07 14:09:30 UTC', '68', '60', '5']\n",
      "['2023-01-07 14:09:46 UTC', '69', '60', '8']\n",
      "['2023-01-07 14:10:01 UTC', '70', '60', '5']\n",
      "['2023-01-07 14:10:17 UTC', '71', '60', '5']\n",
      "['2023-01-07 14:10:32 UTC', '72', '60', '5']\n",
      "['2023-01-07 14:10:47 UTC', '73', '57', '7']\n",
      "['2023-01-07 14:11:02 UTC', '74', '53', '18']\n",
      "['2023-01-07 14:11:17 UTC', '75', '49', '11']\n",
      "['2023-01-07 14:11:33 UTC', '76', '47', '12']\n",
      "['2023-01-07 14:11:48 UTC', '77', '44', '14']\n",
      "['2023-01-07 14:12:04 UTC', '78', '43', '46']\n",
      "['2023-01-07 14:12:19 UTC', '79', '41', '31']\n",
      "['2023-01-07 14:12:34 UTC', '80', '39', '32']\n",
      "['2023-01-07 14:12:50 UTC', '81', '36', '59']\n",
      "['2023-01-07 14:13:05 UTC', '82', '34', '84']\n",
      "['2023-01-07 14:13:21 UTC', '83', '32', '75']\n",
      "['2023-01-07 14:13:38 UTC', '84', '31', '87']\n",
      "['2023-01-07 14:13:54 UTC', '85', '31', '92']\n",
      "['2023-01-07 14:14:16 UTC', '86', '31', '59']\n",
      "['2023-01-07 14:14:37 UTC', '87', '31', '55']\n",
      "['2023-01-07 14:14:53 UTC', '88', '31', '54']\n",
      "['2023-01-07 14:15:12 UTC', '89', '31', '53']\n",
      "['2023-01-07 14:15:27 UTC', '90', '31', '53']\n",
      "['2023-01-07 14:15:42 UTC', '91', '31', '52']\n",
      "['2023-01-07 14:15:57 UTC', '92', '33', '98']\n",
      "['2023-01-07 14:16:12 UTC', '93', '29', '53']\n",
      "['2023-01-07 14:16:27 UTC', '94', '29', '53']\n",
      "['2023-01-07 14:16:42 UTC', '95', '28', '52']\n",
      "['2023-01-07 14:16:59 UTC', '96', '28', '52']\n",
      "['2023-01-07 14:17:16 UTC', '97', '28', '52']\n",
      "['2023-01-07 14:17:32 UTC', '98', '28', '54']\n",
      "['2023-01-07 14:17:47 UTC', '99', '28', '58']\n",
      "['2023-01-07 14:18:04 UTC', '100', '26', '59']\n",
      "['2023-01-07 14:18:19 UTC', '101', '24', '58']\n",
      "['2023-01-07 14:18:34 UTC', '102', '23', '73']\n",
      "['2023-01-07 14:18:49 UTC', '103', '23', '77']\n",
      "['2023-01-07 14:19:04 UTC', '104', '23', '74']\n",
      "['2023-01-07 14:19:19 UTC', '105', '23', '71']\n",
      "['2023-01-07 14:19:35 UTC', '106', '22', '69']\n",
      "['2023-01-07 14:19:50 UTC', '107', '21', '72']\n",
      "['2023-01-07 14:20:05 UTC', '108', '19', '80']\n",
      "['2023-01-07 14:20:20 UTC', '109', '19', '75']\n",
      "['2023-01-07 14:20:35 UTC', '110', '17', '76']\n",
      "['2023-01-07 14:20:50 UTC', '111', '16', '81']\n",
      "['2023-01-07 14:21:07 UTC', '112', '16', '94']\n"
     ]
    }
   ],
   "source": [
    "import csv\n",
    " \n",
    "# opening the CSV file\n",
    "with open('reading1.csv', mode ='r')as file:\n",
    "   \n",
    "  # reading the CSV file\n",
    "  csvFile = csv.reader(file)\n",
    " \n",
    "  # displaying the contents of the CSV file\n",
    "  for lines in csvFile:\n",
    "        print(lines)"
   ]
  },
  {
   "cell_type": "code",
   "execution_count": 2,
   "id": "cb344626",
   "metadata": {},
   "outputs": [
    {
     "ename": "FileNotFoundError",
     "evalue": "[Errno 2] No such file or directory: 'reading1.csv'",
     "output_type": "error",
     "traceback": [
      "\u001b[1;31m---------------------------------------------------------------------------\u001b[0m",
      "\u001b[1;31mFileNotFoundError\u001b[0m                         Traceback (most recent call last)",
      "Cell \u001b[1;32mIn[2], line 2\u001b[0m\n\u001b[0;32m      1\u001b[0m \u001b[38;5;28;01mimport\u001b[39;00m \u001b[38;5;21;01mpandas\u001b[39;00m \u001b[38;5;28;01mas\u001b[39;00m \u001b[38;5;21;01mpd\u001b[39;00m\n\u001b[1;32m----> 2\u001b[0m y\u001b[38;5;241m=\u001b[39m \u001b[43mpd\u001b[49m\u001b[38;5;241;43m.\u001b[39;49m\u001b[43mread_csv\u001b[49m\u001b[43m(\u001b[49m\u001b[38;5;124;43m'\u001b[39;49m\u001b[38;5;124;43mreading1.csv\u001b[39;49m\u001b[38;5;124;43m'\u001b[39;49m\u001b[43m)\u001b[49m\n\u001b[0;32m      3\u001b[0m y\u001b[38;5;241m.\u001b[39mhead()\n\u001b[0;32m      4\u001b[0m \u001b[38;5;28mprint\u001b[39m(y)\n",
      "File \u001b[1;32m~\\anaconda3\\lib\\site-packages\\pandas\\util\\_decorators.py:211\u001b[0m, in \u001b[0;36mdeprecate_kwarg.<locals>._deprecate_kwarg.<locals>.wrapper\u001b[1;34m(*args, **kwargs)\u001b[0m\n\u001b[0;32m    209\u001b[0m     \u001b[38;5;28;01melse\u001b[39;00m:\n\u001b[0;32m    210\u001b[0m         kwargs[new_arg_name] \u001b[38;5;241m=\u001b[39m new_arg_value\n\u001b[1;32m--> 211\u001b[0m \u001b[38;5;28;01mreturn\u001b[39;00m func(\u001b[38;5;241m*\u001b[39margs, \u001b[38;5;241m*\u001b[39m\u001b[38;5;241m*\u001b[39mkwargs)\n",
      "File \u001b[1;32m~\\anaconda3\\lib\\site-packages\\pandas\\util\\_decorators.py:331\u001b[0m, in \u001b[0;36mdeprecate_nonkeyword_arguments.<locals>.decorate.<locals>.wrapper\u001b[1;34m(*args, **kwargs)\u001b[0m\n\u001b[0;32m    325\u001b[0m \u001b[38;5;28;01mif\u001b[39;00m \u001b[38;5;28mlen\u001b[39m(args) \u001b[38;5;241m>\u001b[39m num_allow_args:\n\u001b[0;32m    326\u001b[0m     warnings\u001b[38;5;241m.\u001b[39mwarn(\n\u001b[0;32m    327\u001b[0m         msg\u001b[38;5;241m.\u001b[39mformat(arguments\u001b[38;5;241m=\u001b[39m_format_argument_list(allow_args)),\n\u001b[0;32m    328\u001b[0m         \u001b[38;5;167;01mFutureWarning\u001b[39;00m,\n\u001b[0;32m    329\u001b[0m         stacklevel\u001b[38;5;241m=\u001b[39mfind_stack_level(),\n\u001b[0;32m    330\u001b[0m     )\n\u001b[1;32m--> 331\u001b[0m \u001b[38;5;28;01mreturn\u001b[39;00m func(\u001b[38;5;241m*\u001b[39margs, \u001b[38;5;241m*\u001b[39m\u001b[38;5;241m*\u001b[39mkwargs)\n",
      "File \u001b[1;32m~\\anaconda3\\lib\\site-packages\\pandas\\io\\parsers\\readers.py:950\u001b[0m, in \u001b[0;36mread_csv\u001b[1;34m(filepath_or_buffer, sep, delimiter, header, names, index_col, usecols, squeeze, prefix, mangle_dupe_cols, dtype, engine, converters, true_values, false_values, skipinitialspace, skiprows, skipfooter, nrows, na_values, keep_default_na, na_filter, verbose, skip_blank_lines, parse_dates, infer_datetime_format, keep_date_col, date_parser, dayfirst, cache_dates, iterator, chunksize, compression, thousands, decimal, lineterminator, quotechar, quoting, doublequote, escapechar, comment, encoding, encoding_errors, dialect, error_bad_lines, warn_bad_lines, on_bad_lines, delim_whitespace, low_memory, memory_map, float_precision, storage_options)\u001b[0m\n\u001b[0;32m    935\u001b[0m kwds_defaults \u001b[38;5;241m=\u001b[39m _refine_defaults_read(\n\u001b[0;32m    936\u001b[0m     dialect,\n\u001b[0;32m    937\u001b[0m     delimiter,\n\u001b[1;32m   (...)\u001b[0m\n\u001b[0;32m    946\u001b[0m     defaults\u001b[38;5;241m=\u001b[39m{\u001b[38;5;124m\"\u001b[39m\u001b[38;5;124mdelimiter\u001b[39m\u001b[38;5;124m\"\u001b[39m: \u001b[38;5;124m\"\u001b[39m\u001b[38;5;124m,\u001b[39m\u001b[38;5;124m\"\u001b[39m},\n\u001b[0;32m    947\u001b[0m )\n\u001b[0;32m    948\u001b[0m kwds\u001b[38;5;241m.\u001b[39mupdate(kwds_defaults)\n\u001b[1;32m--> 950\u001b[0m \u001b[38;5;28;01mreturn\u001b[39;00m \u001b[43m_read\u001b[49m\u001b[43m(\u001b[49m\u001b[43mfilepath_or_buffer\u001b[49m\u001b[43m,\u001b[49m\u001b[43m \u001b[49m\u001b[43mkwds\u001b[49m\u001b[43m)\u001b[49m\n",
      "File \u001b[1;32m~\\anaconda3\\lib\\site-packages\\pandas\\io\\parsers\\readers.py:605\u001b[0m, in \u001b[0;36m_read\u001b[1;34m(filepath_or_buffer, kwds)\u001b[0m\n\u001b[0;32m    602\u001b[0m _validate_names(kwds\u001b[38;5;241m.\u001b[39mget(\u001b[38;5;124m\"\u001b[39m\u001b[38;5;124mnames\u001b[39m\u001b[38;5;124m\"\u001b[39m, \u001b[38;5;28;01mNone\u001b[39;00m))\n\u001b[0;32m    604\u001b[0m \u001b[38;5;66;03m# Create the parser.\u001b[39;00m\n\u001b[1;32m--> 605\u001b[0m parser \u001b[38;5;241m=\u001b[39m TextFileReader(filepath_or_buffer, \u001b[38;5;241m*\u001b[39m\u001b[38;5;241m*\u001b[39mkwds)\n\u001b[0;32m    607\u001b[0m \u001b[38;5;28;01mif\u001b[39;00m chunksize \u001b[38;5;129;01mor\u001b[39;00m iterator:\n\u001b[0;32m    608\u001b[0m     \u001b[38;5;28;01mreturn\u001b[39;00m parser\n",
      "File \u001b[1;32m~\\anaconda3\\lib\\site-packages\\pandas\\io\\parsers\\readers.py:1442\u001b[0m, in \u001b[0;36mTextFileReader.__init__\u001b[1;34m(self, f, engine, **kwds)\u001b[0m\n\u001b[0;32m   1439\u001b[0m     \u001b[38;5;28mself\u001b[39m\u001b[38;5;241m.\u001b[39moptions[\u001b[38;5;124m\"\u001b[39m\u001b[38;5;124mhas_index_names\u001b[39m\u001b[38;5;124m\"\u001b[39m] \u001b[38;5;241m=\u001b[39m kwds[\u001b[38;5;124m\"\u001b[39m\u001b[38;5;124mhas_index_names\u001b[39m\u001b[38;5;124m\"\u001b[39m]\n\u001b[0;32m   1441\u001b[0m \u001b[38;5;28mself\u001b[39m\u001b[38;5;241m.\u001b[39mhandles: IOHandles \u001b[38;5;241m|\u001b[39m \u001b[38;5;28;01mNone\u001b[39;00m \u001b[38;5;241m=\u001b[39m \u001b[38;5;28;01mNone\u001b[39;00m\n\u001b[1;32m-> 1442\u001b[0m \u001b[38;5;28mself\u001b[39m\u001b[38;5;241m.\u001b[39m_engine \u001b[38;5;241m=\u001b[39m \u001b[38;5;28;43mself\u001b[39;49m\u001b[38;5;241;43m.\u001b[39;49m\u001b[43m_make_engine\u001b[49m\u001b[43m(\u001b[49m\u001b[43mf\u001b[49m\u001b[43m,\u001b[49m\u001b[43m \u001b[49m\u001b[38;5;28;43mself\u001b[39;49m\u001b[38;5;241;43m.\u001b[39;49m\u001b[43mengine\u001b[49m\u001b[43m)\u001b[49m\n",
      "File \u001b[1;32m~\\anaconda3\\lib\\site-packages\\pandas\\io\\parsers\\readers.py:1735\u001b[0m, in \u001b[0;36mTextFileReader._make_engine\u001b[1;34m(self, f, engine)\u001b[0m\n\u001b[0;32m   1733\u001b[0m     \u001b[38;5;28;01mif\u001b[39;00m \u001b[38;5;124m\"\u001b[39m\u001b[38;5;124mb\u001b[39m\u001b[38;5;124m\"\u001b[39m \u001b[38;5;129;01mnot\u001b[39;00m \u001b[38;5;129;01min\u001b[39;00m mode:\n\u001b[0;32m   1734\u001b[0m         mode \u001b[38;5;241m+\u001b[39m\u001b[38;5;241m=\u001b[39m \u001b[38;5;124m\"\u001b[39m\u001b[38;5;124mb\u001b[39m\u001b[38;5;124m\"\u001b[39m\n\u001b[1;32m-> 1735\u001b[0m \u001b[38;5;28mself\u001b[39m\u001b[38;5;241m.\u001b[39mhandles \u001b[38;5;241m=\u001b[39m \u001b[43mget_handle\u001b[49m\u001b[43m(\u001b[49m\n\u001b[0;32m   1736\u001b[0m \u001b[43m    \u001b[49m\u001b[43mf\u001b[49m\u001b[43m,\u001b[49m\n\u001b[0;32m   1737\u001b[0m \u001b[43m    \u001b[49m\u001b[43mmode\u001b[49m\u001b[43m,\u001b[49m\n\u001b[0;32m   1738\u001b[0m \u001b[43m    \u001b[49m\u001b[43mencoding\u001b[49m\u001b[38;5;241;43m=\u001b[39;49m\u001b[38;5;28;43mself\u001b[39;49m\u001b[38;5;241;43m.\u001b[39;49m\u001b[43moptions\u001b[49m\u001b[38;5;241;43m.\u001b[39;49m\u001b[43mget\u001b[49m\u001b[43m(\u001b[49m\u001b[38;5;124;43m\"\u001b[39;49m\u001b[38;5;124;43mencoding\u001b[39;49m\u001b[38;5;124;43m\"\u001b[39;49m\u001b[43m,\u001b[49m\u001b[43m \u001b[49m\u001b[38;5;28;43;01mNone\u001b[39;49;00m\u001b[43m)\u001b[49m\u001b[43m,\u001b[49m\n\u001b[0;32m   1739\u001b[0m \u001b[43m    \u001b[49m\u001b[43mcompression\u001b[49m\u001b[38;5;241;43m=\u001b[39;49m\u001b[38;5;28;43mself\u001b[39;49m\u001b[38;5;241;43m.\u001b[39;49m\u001b[43moptions\u001b[49m\u001b[38;5;241;43m.\u001b[39;49m\u001b[43mget\u001b[49m\u001b[43m(\u001b[49m\u001b[38;5;124;43m\"\u001b[39;49m\u001b[38;5;124;43mcompression\u001b[39;49m\u001b[38;5;124;43m\"\u001b[39;49m\u001b[43m,\u001b[49m\u001b[43m \u001b[49m\u001b[38;5;28;43;01mNone\u001b[39;49;00m\u001b[43m)\u001b[49m\u001b[43m,\u001b[49m\n\u001b[0;32m   1740\u001b[0m \u001b[43m    \u001b[49m\u001b[43mmemory_map\u001b[49m\u001b[38;5;241;43m=\u001b[39;49m\u001b[38;5;28;43mself\u001b[39;49m\u001b[38;5;241;43m.\u001b[39;49m\u001b[43moptions\u001b[49m\u001b[38;5;241;43m.\u001b[39;49m\u001b[43mget\u001b[49m\u001b[43m(\u001b[49m\u001b[38;5;124;43m\"\u001b[39;49m\u001b[38;5;124;43mmemory_map\u001b[39;49m\u001b[38;5;124;43m\"\u001b[39;49m\u001b[43m,\u001b[49m\u001b[43m \u001b[49m\u001b[38;5;28;43;01mFalse\u001b[39;49;00m\u001b[43m)\u001b[49m\u001b[43m,\u001b[49m\n\u001b[0;32m   1741\u001b[0m \u001b[43m    \u001b[49m\u001b[43mis_text\u001b[49m\u001b[38;5;241;43m=\u001b[39;49m\u001b[43mis_text\u001b[49m\u001b[43m,\u001b[49m\n\u001b[0;32m   1742\u001b[0m \u001b[43m    \u001b[49m\u001b[43merrors\u001b[49m\u001b[38;5;241;43m=\u001b[39;49m\u001b[38;5;28;43mself\u001b[39;49m\u001b[38;5;241;43m.\u001b[39;49m\u001b[43moptions\u001b[49m\u001b[38;5;241;43m.\u001b[39;49m\u001b[43mget\u001b[49m\u001b[43m(\u001b[49m\u001b[38;5;124;43m\"\u001b[39;49m\u001b[38;5;124;43mencoding_errors\u001b[39;49m\u001b[38;5;124;43m\"\u001b[39;49m\u001b[43m,\u001b[49m\u001b[43m \u001b[49m\u001b[38;5;124;43m\"\u001b[39;49m\u001b[38;5;124;43mstrict\u001b[39;49m\u001b[38;5;124;43m\"\u001b[39;49m\u001b[43m)\u001b[49m\u001b[43m,\u001b[49m\n\u001b[0;32m   1743\u001b[0m \u001b[43m    \u001b[49m\u001b[43mstorage_options\u001b[49m\u001b[38;5;241;43m=\u001b[39;49m\u001b[38;5;28;43mself\u001b[39;49m\u001b[38;5;241;43m.\u001b[39;49m\u001b[43moptions\u001b[49m\u001b[38;5;241;43m.\u001b[39;49m\u001b[43mget\u001b[49m\u001b[43m(\u001b[49m\u001b[38;5;124;43m\"\u001b[39;49m\u001b[38;5;124;43mstorage_options\u001b[39;49m\u001b[38;5;124;43m\"\u001b[39;49m\u001b[43m,\u001b[49m\u001b[43m \u001b[49m\u001b[38;5;28;43;01mNone\u001b[39;49;00m\u001b[43m)\u001b[49m\u001b[43m,\u001b[49m\n\u001b[0;32m   1744\u001b[0m \u001b[43m\u001b[49m\u001b[43m)\u001b[49m\n\u001b[0;32m   1745\u001b[0m \u001b[38;5;28;01massert\u001b[39;00m \u001b[38;5;28mself\u001b[39m\u001b[38;5;241m.\u001b[39mhandles \u001b[38;5;129;01mis\u001b[39;00m \u001b[38;5;129;01mnot\u001b[39;00m \u001b[38;5;28;01mNone\u001b[39;00m\n\u001b[0;32m   1746\u001b[0m f \u001b[38;5;241m=\u001b[39m \u001b[38;5;28mself\u001b[39m\u001b[38;5;241m.\u001b[39mhandles\u001b[38;5;241m.\u001b[39mhandle\n",
      "File \u001b[1;32m~\\anaconda3\\lib\\site-packages\\pandas\\io\\common.py:856\u001b[0m, in \u001b[0;36mget_handle\u001b[1;34m(path_or_buf, mode, encoding, compression, memory_map, is_text, errors, storage_options)\u001b[0m\n\u001b[0;32m    851\u001b[0m \u001b[38;5;28;01melif\u001b[39;00m \u001b[38;5;28misinstance\u001b[39m(handle, \u001b[38;5;28mstr\u001b[39m):\n\u001b[0;32m    852\u001b[0m     \u001b[38;5;66;03m# Check whether the filename is to be opened in binary mode.\u001b[39;00m\n\u001b[0;32m    853\u001b[0m     \u001b[38;5;66;03m# Binary mode does not support 'encoding' and 'newline'.\u001b[39;00m\n\u001b[0;32m    854\u001b[0m     \u001b[38;5;28;01mif\u001b[39;00m ioargs\u001b[38;5;241m.\u001b[39mencoding \u001b[38;5;129;01mand\u001b[39;00m \u001b[38;5;124m\"\u001b[39m\u001b[38;5;124mb\u001b[39m\u001b[38;5;124m\"\u001b[39m \u001b[38;5;129;01mnot\u001b[39;00m \u001b[38;5;129;01min\u001b[39;00m ioargs\u001b[38;5;241m.\u001b[39mmode:\n\u001b[0;32m    855\u001b[0m         \u001b[38;5;66;03m# Encoding\u001b[39;00m\n\u001b[1;32m--> 856\u001b[0m         handle \u001b[38;5;241m=\u001b[39m \u001b[38;5;28;43mopen\u001b[39;49m\u001b[43m(\u001b[49m\n\u001b[0;32m    857\u001b[0m \u001b[43m            \u001b[49m\u001b[43mhandle\u001b[49m\u001b[43m,\u001b[49m\n\u001b[0;32m    858\u001b[0m \u001b[43m            \u001b[49m\u001b[43mioargs\u001b[49m\u001b[38;5;241;43m.\u001b[39;49m\u001b[43mmode\u001b[49m\u001b[43m,\u001b[49m\n\u001b[0;32m    859\u001b[0m \u001b[43m            \u001b[49m\u001b[43mencoding\u001b[49m\u001b[38;5;241;43m=\u001b[39;49m\u001b[43mioargs\u001b[49m\u001b[38;5;241;43m.\u001b[39;49m\u001b[43mencoding\u001b[49m\u001b[43m,\u001b[49m\n\u001b[0;32m    860\u001b[0m \u001b[43m            \u001b[49m\u001b[43merrors\u001b[49m\u001b[38;5;241;43m=\u001b[39;49m\u001b[43merrors\u001b[49m\u001b[43m,\u001b[49m\n\u001b[0;32m    861\u001b[0m \u001b[43m            \u001b[49m\u001b[43mnewline\u001b[49m\u001b[38;5;241;43m=\u001b[39;49m\u001b[38;5;124;43m\"\u001b[39;49m\u001b[38;5;124;43m\"\u001b[39;49m\u001b[43m,\u001b[49m\n\u001b[0;32m    862\u001b[0m \u001b[43m        \u001b[49m\u001b[43m)\u001b[49m\n\u001b[0;32m    863\u001b[0m     \u001b[38;5;28;01melse\u001b[39;00m:\n\u001b[0;32m    864\u001b[0m         \u001b[38;5;66;03m# Binary mode\u001b[39;00m\n\u001b[0;32m    865\u001b[0m         handle \u001b[38;5;241m=\u001b[39m \u001b[38;5;28mopen\u001b[39m(handle, ioargs\u001b[38;5;241m.\u001b[39mmode)\n",
      "\u001b[1;31mFileNotFoundError\u001b[0m: [Errno 2] No such file or directory: 'reading1.csv'"
     ]
    }
   ],
   "source": [
    "import pandas as pd\n",
    "y= pd.read_csv('reading1.csv')\n",
    "y.head()\n",
    "print(y)"
   ]
  },
  {
   "cell_type": "code",
   "execution_count": 1,
   "id": "3d25d64e",
   "metadata": {},
   "outputs": [
    {
     "ename": "NameError",
     "evalue": "name 'y' is not defined",
     "output_type": "error",
     "traceback": [
      "\u001b[1;31m---------------------------------------------------------------------------\u001b[0m",
      "\u001b[1;31mNameError\u001b[0m                                 Traceback (most recent call last)",
      "Cell \u001b[1;32mIn[1], line 4\u001b[0m\n\u001b[0;32m      2\u001b[0m \u001b[38;5;28;01mimport\u001b[39;00m \u001b[38;5;21;01mmatplotlib\u001b[39;00m\u001b[38;5;21;01m.\u001b[39;00m\u001b[38;5;21;01mpyplot\u001b[39;00m \u001b[38;5;28;01mas\u001b[39;00m \u001b[38;5;21;01mplt\u001b[39;00m\n\u001b[0;32m      3\u001b[0m sns\u001b[38;5;241m.\u001b[39mset_style(\u001b[38;5;124m'\u001b[39m\u001b[38;5;124mwhitegrid\u001b[39m\u001b[38;5;124m'\u001b[39m)\n\u001b[1;32m----> 4\u001b[0m plt\u001b[38;5;241m.\u001b[39mplot(\u001b[43my\u001b[49m\u001b[38;5;241m.\u001b[39mcreated_at,y\u001b[38;5;241m.\u001b[39mTemp,y\u001b[38;5;241m.\u001b[39mHumid)\n",
      "\u001b[1;31mNameError\u001b[0m: name 'y' is not defined"
     ]
    }
   ],
   "source": [
    "import seaborn as sns\n",
    "import matplotlib.pyplot as plt\n",
    "sns.set_style('whitegrid')\n",
    "plt.plot(y.created_at,y.Temp,y.Humid);"
   ]
  },
  {
   "cell_type": "code",
   "execution_count": 3,
   "id": "ceee3700",
   "metadata": {},
   "outputs": [
    {
     "ename": "AttributeError",
     "evalue": "module 'pandas' has no attribute 'created_at'",
     "output_type": "error",
     "traceback": [
      "\u001b[1;31m---------------------------------------------------------------------------\u001b[0m",
      "\u001b[1;31mAttributeError\u001b[0m                            Traceback (most recent call last)",
      "Cell \u001b[1;32mIn[3], line 4\u001b[0m\n\u001b[0;32m      2\u001b[0m \u001b[38;5;28;01mimport\u001b[39;00m \u001b[38;5;21;01mmatplotlib\u001b[39;00m\u001b[38;5;21;01m.\u001b[39;00m\u001b[38;5;21;01mpyplot\u001b[39;00m \u001b[38;5;28;01mas\u001b[39;00m \u001b[38;5;21;01mplt\u001b[39;00m\n\u001b[0;32m      3\u001b[0m sns\u001b[38;5;241m.\u001b[39mset_style(\u001b[38;5;124m'\u001b[39m\u001b[38;5;124mwhitegrid\u001b[39m\u001b[38;5;124m'\u001b[39m)\n\u001b[1;32m----> 4\u001b[0m plt\u001b[38;5;241m.\u001b[39mplot(\u001b[43mpd\u001b[49m\u001b[38;5;241;43m.\u001b[39;49m\u001b[43mcreated_at\u001b[49m,pd\u001b[38;5;241m.\u001b[39mentry_id,pd\u001b[38;5;241m.\u001b[39mfield1)\n",
      "File \u001b[1;32m~\\anaconda3\\lib\\site-packages\\pandas\\__init__.py:264\u001b[0m, in \u001b[0;36m__getattr__\u001b[1;34m(name)\u001b[0m\n\u001b[0;32m    260\u001b[0m     \u001b[38;5;28;01mfrom\u001b[39;00m \u001b[38;5;21;01mpandas\u001b[39;00m\u001b[38;5;21;01m.\u001b[39;00m\u001b[38;5;21;01mcore\u001b[39;00m\u001b[38;5;21;01m.\u001b[39;00m\u001b[38;5;21;01marrays\u001b[39;00m\u001b[38;5;21;01m.\u001b[39;00m\u001b[38;5;21;01msparse\u001b[39;00m \u001b[38;5;28;01mimport\u001b[39;00m SparseArray \u001b[38;5;28;01mas\u001b[39;00m _SparseArray\n\u001b[0;32m    262\u001b[0m     \u001b[38;5;28;01mreturn\u001b[39;00m _SparseArray\n\u001b[1;32m--> 264\u001b[0m \u001b[38;5;28;01mraise\u001b[39;00m \u001b[38;5;167;01mAttributeError\u001b[39;00m(\u001b[38;5;124mf\u001b[39m\u001b[38;5;124m\"\u001b[39m\u001b[38;5;124mmodule \u001b[39m\u001b[38;5;124m'\u001b[39m\u001b[38;5;124mpandas\u001b[39m\u001b[38;5;124m'\u001b[39m\u001b[38;5;124m has no attribute \u001b[39m\u001b[38;5;124m'\u001b[39m\u001b[38;5;132;01m{\u001b[39;00mname\u001b[38;5;132;01m}\u001b[39;00m\u001b[38;5;124m'\u001b[39m\u001b[38;5;124m\"\u001b[39m)\n",
      "\u001b[1;31mAttributeError\u001b[0m: module 'pandas' has no attribute 'created_at'"
     ]
    }
   ],
   "source": [
    "import seaborn as sns\n",
    "import matplotlib.pyplot as plt\n",
    "sns.set_style('whitegrid')\n",
    "plt.plot(pd.created_at,pd.entry_id,pd.field1);"
   ]
  },
  {
   "cell_type": "code",
   "execution_count": null,
   "id": "e8cb8fe0",
   "metadata": {},
   "outputs": [],
   "source": []
  },
  {
   "cell_type": "code",
   "execution_count": 51,
   "id": "9523bf1c",
   "metadata": {},
   "outputs": [
    {
     "ename": "NameError",
     "evalue": "name 'Temp' is not defined",
     "output_type": "error",
     "traceback": [
      "\u001b[1;31m---------------------------------------------------------------------------\u001b[0m",
      "\u001b[1;31mNameError\u001b[0m                                 Traceback (most recent call last)",
      "Input \u001b[1;32mIn [51]\u001b[0m, in \u001b[0;36m<cell line: 17>\u001b[1;34m()\u001b[0m\n\u001b[0;32m     14\u001b[0m w \u001b[38;5;241m=\u001b[39m np\u001b[38;5;241m.\u001b[39mlinalg\u001b[38;5;241m.\u001b[39minv(X\u001b[38;5;241m.\u001b[39mT\u001b[38;5;241m.\u001b[39mdot(X))\u001b[38;5;241m.\u001b[39mdot(X\u001b[38;5;241m.\u001b[39mT)\u001b[38;5;241m.\u001b[39mdot(y)\n\u001b[0;32m     16\u001b[0m \u001b[38;5;66;03m# make predictions on a new input example\u001b[39;00m\n\u001b[1;32m---> 17\u001b[0m x_new \u001b[38;5;241m=\u001b[39m np\u001b[38;5;241m.\u001b[39marray([\u001b[38;5;241m1\u001b[39m, \u001b[43mTemp\u001b[49m , Humid])\n\u001b[0;32m     18\u001b[0m y_pred \u001b[38;5;241m=\u001b[39m x_new\u001b[38;5;241m.\u001b[39mdot(w)\n",
      "\u001b[1;31mNameError\u001b[0m: name 'Temp' is not defined"
     ]
    }
   ],
   "source": [
    "import numpy as np\n",
    "import pandas as pd\n",
    "# assume that we have a dataset of (humidity, temperature) pairs, stored in the variables 'X' and 'y'\n",
    "\n",
    "df = pd.read_csv('read3.csv')\n",
    "\n",
    "# Assume that you have a DataFrame called \"df\" with the predictor variables and the response variable\n",
    "X = df[[\"Temp\", \"Humid\"]]\n",
    "y = df[\"entry_id\"]\n",
    "# add a column of ones to the input data\n",
    "X = np.hstack([np.ones((X.shape[0], 1)), X])\n",
    "\n",
    "# compute the weights for the linear regression model using the normal equation\n",
    "w = np.linalg.inv(X.T.dot(X)).dot(X.T).dot(y)\n",
    "\n",
    "# make predictions on a new input example\n",
    "x_new = np.array([1, Temp , Humid])\n",
    "y_pred = x_new.dot(w)\n"
   ]
  },
  {
   "cell_type": "code",
   "execution_count": 21,
   "id": "b9f53167",
   "metadata": {},
   "outputs": [
    {
     "name": "stdout",
     "output_type": "stream",
     "text": [
      "                            OLS Regression Results                            \n",
      "==============================================================================\n",
      "Dep. Variable:               entry_id   R-squared:                       0.132\n",
      "Model:                            OLS   Adj. R-squared:                  0.114\n",
      "Method:                 Least Squares   F-statistic:                     7.388\n",
      "Date:                Sat, 07 Jan 2023   Prob (F-statistic):            0.00103\n",
      "Time:                        21:47:11   Log-Likelihood:                -471.07\n",
      "No. Observations:                 100   AIC:                             948.1\n",
      "Df Residuals:                      97   BIC:                             956.0\n",
      "Df Model:                           2                                         \n",
      "Covariance Type:            nonrobust                                         \n",
      "==============================================================================\n",
      "                 coef    std err          t      P>|t|      [0.025      0.975]\n",
      "------------------------------------------------------------------------------\n",
      "const         31.9203     18.743      1.703      0.092      -5.279      69.120\n",
      "Temp           0.2375      0.333      0.714      0.477      -0.423       0.898\n",
      "Humid          0.4615      0.169      2.726      0.008       0.125       0.798\n",
      "==============================================================================\n",
      "Omnibus:                      213.507   Durbin-Watson:                   0.054\n",
      "Prob(Omnibus):                  0.000   Jarque-Bera (JB):                9.452\n",
      "Skew:                          -0.074   Prob(JB):                      0.00886\n",
      "Kurtosis:                       1.501   Cond. No.                         428.\n",
      "==============================================================================\n",
      "\n",
      "Notes:\n",
      "[1] Standard Errors assume that the covariance matrix of the errors is correctly specified.\n"
     ]
    }
   ],
   "source": [
    "import pandas as pd\n",
    "import numpy as np\n",
    "import statsmodels.api as sm\n",
    "\n",
    "# Load the data\n",
    "df = pd.read_csv('read3.csv')\n",
    "\n",
    "# Select the features\n",
    "X = df[['Temp', 'Humid']]\n",
    "\n",
    "# Select the target\n",
    "y = df['entry_id']\n",
    "\n",
    "# Add a constant term to the features\n",
    "X = sm.add_constant(X)\n",
    "\n",
    "# Create the model\n",
    "model = sm.OLS(y, X)\n",
    "\n",
    "# Fit the model\n",
    "results = model.fit()\n",
    "\n",
    "# Print the summary\n",
    "print(results.summary())"
   ]
  },
  {
   "cell_type": "code",
   "execution_count": 24,
   "id": "10cb150d",
   "metadata": {},
   "outputs": [
    {
     "ename": "URLError",
     "evalue": "<urlopen error [Errno 11001] getaddrinfo failed>",
     "output_type": "error",
     "traceback": [
      "\u001b[1;31m---------------------------------------------------------------------------\u001b[0m",
      "\u001b[1;31mgaierror\u001b[0m                                  Traceback (most recent call last)",
      "File \u001b[1;32m~\\anaconda3\\lib\\urllib\\request.py:1346\u001b[0m, in \u001b[0;36mAbstractHTTPHandler.do_open\u001b[1;34m(self, http_class, req, **http_conn_args)\u001b[0m\n\u001b[0;32m   1345\u001b[0m \u001b[38;5;28;01mtry\u001b[39;00m:\n\u001b[1;32m-> 1346\u001b[0m     \u001b[43mh\u001b[49m\u001b[38;5;241;43m.\u001b[39;49m\u001b[43mrequest\u001b[49m\u001b[43m(\u001b[49m\u001b[43mreq\u001b[49m\u001b[38;5;241;43m.\u001b[39;49m\u001b[43mget_method\u001b[49m\u001b[43m(\u001b[49m\u001b[43m)\u001b[49m\u001b[43m,\u001b[49m\u001b[43m \u001b[49m\u001b[43mreq\u001b[49m\u001b[38;5;241;43m.\u001b[39;49m\u001b[43mselector\u001b[49m\u001b[43m,\u001b[49m\u001b[43m \u001b[49m\u001b[43mreq\u001b[49m\u001b[38;5;241;43m.\u001b[39;49m\u001b[43mdata\u001b[49m\u001b[43m,\u001b[49m\u001b[43m \u001b[49m\u001b[43mheaders\u001b[49m\u001b[43m,\u001b[49m\n\u001b[0;32m   1347\u001b[0m \u001b[43m              \u001b[49m\u001b[43mencode_chunked\u001b[49m\u001b[38;5;241;43m=\u001b[39;49m\u001b[43mreq\u001b[49m\u001b[38;5;241;43m.\u001b[39;49m\u001b[43mhas_header\u001b[49m\u001b[43m(\u001b[49m\u001b[38;5;124;43m'\u001b[39;49m\u001b[38;5;124;43mTransfer-encoding\u001b[39;49m\u001b[38;5;124;43m'\u001b[39;49m\u001b[43m)\u001b[49m\u001b[43m)\u001b[49m\n\u001b[0;32m   1348\u001b[0m \u001b[38;5;28;01mexcept\u001b[39;00m \u001b[38;5;167;01mOSError\u001b[39;00m \u001b[38;5;28;01mas\u001b[39;00m err: \u001b[38;5;66;03m# timeout error\u001b[39;00m\n",
      "File \u001b[1;32m~\\anaconda3\\lib\\http\\client.py:1285\u001b[0m, in \u001b[0;36mHTTPConnection.request\u001b[1;34m(self, method, url, body, headers, encode_chunked)\u001b[0m\n\u001b[0;32m   1284\u001b[0m \u001b[38;5;124;03m\"\"\"Send a complete request to the server.\"\"\"\u001b[39;00m\n\u001b[1;32m-> 1285\u001b[0m \u001b[38;5;28;43mself\u001b[39;49m\u001b[38;5;241;43m.\u001b[39;49m\u001b[43m_send_request\u001b[49m\u001b[43m(\u001b[49m\u001b[43mmethod\u001b[49m\u001b[43m,\u001b[49m\u001b[43m \u001b[49m\u001b[43murl\u001b[49m\u001b[43m,\u001b[49m\u001b[43m \u001b[49m\u001b[43mbody\u001b[49m\u001b[43m,\u001b[49m\u001b[43m \u001b[49m\u001b[43mheaders\u001b[49m\u001b[43m,\u001b[49m\u001b[43m \u001b[49m\u001b[43mencode_chunked\u001b[49m\u001b[43m)\u001b[49m\n",
      "File \u001b[1;32m~\\anaconda3\\lib\\http\\client.py:1331\u001b[0m, in \u001b[0;36mHTTPConnection._send_request\u001b[1;34m(self, method, url, body, headers, encode_chunked)\u001b[0m\n\u001b[0;32m   1330\u001b[0m     body \u001b[38;5;241m=\u001b[39m _encode(body, \u001b[38;5;124m'\u001b[39m\u001b[38;5;124mbody\u001b[39m\u001b[38;5;124m'\u001b[39m)\n\u001b[1;32m-> 1331\u001b[0m \u001b[38;5;28;43mself\u001b[39;49m\u001b[38;5;241;43m.\u001b[39;49m\u001b[43mendheaders\u001b[49m\u001b[43m(\u001b[49m\u001b[43mbody\u001b[49m\u001b[43m,\u001b[49m\u001b[43m \u001b[49m\u001b[43mencode_chunked\u001b[49m\u001b[38;5;241;43m=\u001b[39;49m\u001b[43mencode_chunked\u001b[49m\u001b[43m)\u001b[49m\n",
      "File \u001b[1;32m~\\anaconda3\\lib\\http\\client.py:1280\u001b[0m, in \u001b[0;36mHTTPConnection.endheaders\u001b[1;34m(self, message_body, encode_chunked)\u001b[0m\n\u001b[0;32m   1279\u001b[0m     \u001b[38;5;28;01mraise\u001b[39;00m CannotSendHeader()\n\u001b[1;32m-> 1280\u001b[0m \u001b[38;5;28;43mself\u001b[39;49m\u001b[38;5;241;43m.\u001b[39;49m\u001b[43m_send_output\u001b[49m\u001b[43m(\u001b[49m\u001b[43mmessage_body\u001b[49m\u001b[43m,\u001b[49m\u001b[43m \u001b[49m\u001b[43mencode_chunked\u001b[49m\u001b[38;5;241;43m=\u001b[39;49m\u001b[43mencode_chunked\u001b[49m\u001b[43m)\u001b[49m\n",
      "File \u001b[1;32m~\\anaconda3\\lib\\http\\client.py:1040\u001b[0m, in \u001b[0;36mHTTPConnection._send_output\u001b[1;34m(self, message_body, encode_chunked)\u001b[0m\n\u001b[0;32m   1039\u001b[0m \u001b[38;5;28;01mdel\u001b[39;00m \u001b[38;5;28mself\u001b[39m\u001b[38;5;241m.\u001b[39m_buffer[:]\n\u001b[1;32m-> 1040\u001b[0m \u001b[38;5;28;43mself\u001b[39;49m\u001b[38;5;241;43m.\u001b[39;49m\u001b[43msend\u001b[49m\u001b[43m(\u001b[49m\u001b[43mmsg\u001b[49m\u001b[43m)\u001b[49m\n\u001b[0;32m   1042\u001b[0m \u001b[38;5;28;01mif\u001b[39;00m message_body \u001b[38;5;129;01mis\u001b[39;00m \u001b[38;5;129;01mnot\u001b[39;00m \u001b[38;5;28;01mNone\u001b[39;00m:\n\u001b[0;32m   1043\u001b[0m \n\u001b[0;32m   1044\u001b[0m     \u001b[38;5;66;03m# create a consistent interface to message_body\u001b[39;00m\n",
      "File \u001b[1;32m~\\anaconda3\\lib\\http\\client.py:980\u001b[0m, in \u001b[0;36mHTTPConnection.send\u001b[1;34m(self, data)\u001b[0m\n\u001b[0;32m    979\u001b[0m \u001b[38;5;28;01mif\u001b[39;00m \u001b[38;5;28mself\u001b[39m\u001b[38;5;241m.\u001b[39mauto_open:\n\u001b[1;32m--> 980\u001b[0m     \u001b[38;5;28;43mself\u001b[39;49m\u001b[38;5;241;43m.\u001b[39;49m\u001b[43mconnect\u001b[49m\u001b[43m(\u001b[49m\u001b[43m)\u001b[49m\n\u001b[0;32m    981\u001b[0m \u001b[38;5;28;01melse\u001b[39;00m:\n",
      "File \u001b[1;32m~\\anaconda3\\lib\\http\\client.py:1447\u001b[0m, in \u001b[0;36mHTTPSConnection.connect\u001b[1;34m(self)\u001b[0m\n\u001b[0;32m   1445\u001b[0m \u001b[38;5;124m\"\u001b[39m\u001b[38;5;124mConnect to a host on a given (SSL) port.\u001b[39m\u001b[38;5;124m\"\u001b[39m\n\u001b[1;32m-> 1447\u001b[0m \u001b[38;5;28;43msuper\u001b[39;49m\u001b[43m(\u001b[49m\u001b[43m)\u001b[49m\u001b[38;5;241;43m.\u001b[39;49m\u001b[43mconnect\u001b[49m\u001b[43m(\u001b[49m\u001b[43m)\u001b[49m\n\u001b[0;32m   1449\u001b[0m \u001b[38;5;28;01mif\u001b[39;00m \u001b[38;5;28mself\u001b[39m\u001b[38;5;241m.\u001b[39m_tunnel_host:\n",
      "File \u001b[1;32m~\\anaconda3\\lib\\http\\client.py:946\u001b[0m, in \u001b[0;36mHTTPConnection.connect\u001b[1;34m(self)\u001b[0m\n\u001b[0;32m    945\u001b[0m \u001b[38;5;124;03m\"\"\"Connect to the host and port specified in __init__.\"\"\"\u001b[39;00m\n\u001b[1;32m--> 946\u001b[0m \u001b[38;5;28mself\u001b[39m\u001b[38;5;241m.\u001b[39msock \u001b[38;5;241m=\u001b[39m \u001b[38;5;28;43mself\u001b[39;49m\u001b[38;5;241;43m.\u001b[39;49m\u001b[43m_create_connection\u001b[49m\u001b[43m(\u001b[49m\n\u001b[0;32m    947\u001b[0m \u001b[43m    \u001b[49m\u001b[43m(\u001b[49m\u001b[38;5;28;43mself\u001b[39;49m\u001b[38;5;241;43m.\u001b[39;49m\u001b[43mhost\u001b[49m\u001b[43m,\u001b[49m\u001b[38;5;28;43mself\u001b[39;49m\u001b[38;5;241;43m.\u001b[39;49m\u001b[43mport\u001b[49m\u001b[43m)\u001b[49m\u001b[43m,\u001b[49m\u001b[43m \u001b[49m\u001b[38;5;28;43mself\u001b[39;49m\u001b[38;5;241;43m.\u001b[39;49m\u001b[43mtimeout\u001b[49m\u001b[43m,\u001b[49m\u001b[43m \u001b[49m\u001b[38;5;28;43mself\u001b[39;49m\u001b[38;5;241;43m.\u001b[39;49m\u001b[43msource_address\u001b[49m\u001b[43m)\u001b[49m\n\u001b[0;32m    948\u001b[0m \u001b[38;5;66;03m# Might fail in OSs that don't implement TCP_NODELAY\u001b[39;00m\n",
      "File \u001b[1;32m~\\anaconda3\\lib\\socket.py:823\u001b[0m, in \u001b[0;36mcreate_connection\u001b[1;34m(address, timeout, source_address)\u001b[0m\n\u001b[0;32m    822\u001b[0m err \u001b[38;5;241m=\u001b[39m \u001b[38;5;28;01mNone\u001b[39;00m\n\u001b[1;32m--> 823\u001b[0m \u001b[38;5;28;01mfor\u001b[39;00m res \u001b[38;5;129;01min\u001b[39;00m \u001b[43mgetaddrinfo\u001b[49m\u001b[43m(\u001b[49m\u001b[43mhost\u001b[49m\u001b[43m,\u001b[49m\u001b[43m \u001b[49m\u001b[43mport\u001b[49m\u001b[43m,\u001b[49m\u001b[43m \u001b[49m\u001b[38;5;241;43m0\u001b[39;49m\u001b[43m,\u001b[49m\u001b[43m \u001b[49m\u001b[43mSOCK_STREAM\u001b[49m\u001b[43m)\u001b[49m:\n\u001b[0;32m    824\u001b[0m     af, socktype, proto, canonname, sa \u001b[38;5;241m=\u001b[39m res\n",
      "File \u001b[1;32m~\\anaconda3\\lib\\socket.py:954\u001b[0m, in \u001b[0;36mgetaddrinfo\u001b[1;34m(host, port, family, type, proto, flags)\u001b[0m\n\u001b[0;32m    953\u001b[0m addrlist \u001b[38;5;241m=\u001b[39m []\n\u001b[1;32m--> 954\u001b[0m \u001b[38;5;28;01mfor\u001b[39;00m res \u001b[38;5;129;01min\u001b[39;00m \u001b[43m_socket\u001b[49m\u001b[38;5;241;43m.\u001b[39;49m\u001b[43mgetaddrinfo\u001b[49m\u001b[43m(\u001b[49m\u001b[43mhost\u001b[49m\u001b[43m,\u001b[49m\u001b[43m \u001b[49m\u001b[43mport\u001b[49m\u001b[43m,\u001b[49m\u001b[43m \u001b[49m\u001b[43mfamily\u001b[49m\u001b[43m,\u001b[49m\u001b[43m \u001b[49m\u001b[38;5;28;43mtype\u001b[39;49m\u001b[43m,\u001b[49m\u001b[43m \u001b[49m\u001b[43mproto\u001b[49m\u001b[43m,\u001b[49m\u001b[43m \u001b[49m\u001b[43mflags\u001b[49m\u001b[43m)\u001b[49m:\n\u001b[0;32m    955\u001b[0m     af, socktype, proto, canonname, sa \u001b[38;5;241m=\u001b[39m res\n",
      "\u001b[1;31mgaierror\u001b[0m: [Errno 11001] getaddrinfo failed",
      "\nDuring handling of the above exception, another exception occurred:\n",
      "\u001b[1;31mURLError\u001b[0m                                  Traceback (most recent call last)",
      "Input \u001b[1;32mIn [24]\u001b[0m, in \u001b[0;36m<cell line: 4>\u001b[1;34m()\u001b[0m\n\u001b[0;32m      1\u001b[0m \u001b[38;5;28;01mimport\u001b[39;00m \u001b[38;5;21;01mstatsmodels\u001b[39;00m\u001b[38;5;21;01m.\u001b[39;00m\u001b[38;5;21;01mapi\u001b[39;00m \u001b[38;5;28;01mas\u001b[39;00m \u001b[38;5;21;01msm\u001b[39;00m\n\u001b[0;32m      2\u001b[0m \u001b[38;5;28;01mimport\u001b[39;00m \u001b[38;5;21;01mnumpy\u001b[39;00m \u001b[38;5;28;01mas\u001b[39;00m \u001b[38;5;21;01mnp\u001b[39;00m\n\u001b[1;32m----> 4\u001b[0m read \u001b[38;5;241m=\u001b[39m \u001b[43msm\u001b[49m\u001b[38;5;241;43m.\u001b[39;49m\u001b[43mdatasets\u001b[49m\u001b[38;5;241;43m.\u001b[39;49m\u001b[43mget_rdataset\u001b[49m\u001b[43m(\u001b[49m\u001b[38;5;124;43m'\u001b[39;49m\u001b[38;5;124;43mread3.csv\u001b[39;49m\u001b[38;5;124;43m'\u001b[39;49m\u001b[43m)\u001b[49m\n\u001b[0;32m      5\u001b[0m Y \u001b[38;5;241m=\u001b[39m read\u001b[38;5;241m.\u001b[39mdata[\u001b[38;5;124m'\u001b[39m\u001b[38;5;124mTemp\u001b[39m\u001b[38;5;124m'\u001b[39m]\n\u001b[0;32m      6\u001b[0m X \u001b[38;5;241m=\u001b[39m read\u001b[38;5;241m.\u001b[39mdata[\u001b[38;5;124m'\u001b[39m\u001b[38;5;124mHumid\u001b[39m\u001b[38;5;124m'\u001b[39m]\n",
      "File \u001b[1;32m~\\anaconda3\\lib\\site-packages\\statsmodels\\datasets\\utils.py:236\u001b[0m, in \u001b[0;36mget_rdataset\u001b[1;34m(dataname, package, cache)\u001b[0m\n\u001b[0;32m    233\u001b[0m docs_base_url \u001b[38;5;241m=\u001b[39m (\u001b[38;5;124m\"\u001b[39m\u001b[38;5;124mhttps://raw.githubusercontent.com/vincentarelbundock/Rdatasets/\u001b[39m\u001b[38;5;124m\"\u001b[39m\n\u001b[0;32m    234\u001b[0m                  \u001b[38;5;124m\"\u001b[39m\u001b[38;5;124mmaster/doc/\u001b[39m\u001b[38;5;124m\"\u001b[39m\u001b[38;5;241m+\u001b[39mpackage\u001b[38;5;241m+\u001b[39m\u001b[38;5;124m\"\u001b[39m\u001b[38;5;124m/rst/\u001b[39m\u001b[38;5;124m\"\u001b[39m)\n\u001b[0;32m    235\u001b[0m cache \u001b[38;5;241m=\u001b[39m _get_cache(cache)\n\u001b[1;32m--> 236\u001b[0m data, from_cache \u001b[38;5;241m=\u001b[39m \u001b[43m_get_data\u001b[49m\u001b[43m(\u001b[49m\u001b[43mdata_base_url\u001b[49m\u001b[43m,\u001b[49m\u001b[43m \u001b[49m\u001b[43mdataname\u001b[49m\u001b[43m,\u001b[49m\u001b[43m \u001b[49m\u001b[43mcache\u001b[49m\u001b[43m)\u001b[49m\n\u001b[0;32m    237\u001b[0m data \u001b[38;5;241m=\u001b[39m read_csv(data, index_col\u001b[38;5;241m=\u001b[39m\u001b[38;5;241m0\u001b[39m)\n\u001b[0;32m    238\u001b[0m data \u001b[38;5;241m=\u001b[39m _maybe_reset_index(data)\n",
      "File \u001b[1;32m~\\anaconda3\\lib\\site-packages\\statsmodels\\datasets\\utils.py:165\u001b[0m, in \u001b[0;36m_get_data\u001b[1;34m(base_url, dataname, cache, extension)\u001b[0m\n\u001b[0;32m    163\u001b[0m url \u001b[38;5;241m=\u001b[39m base_url \u001b[38;5;241m+\u001b[39m (dataname \u001b[38;5;241m+\u001b[39m \u001b[38;5;124m\"\u001b[39m\u001b[38;5;124m.\u001b[39m\u001b[38;5;132;01m%s\u001b[39;00m\u001b[38;5;124m\"\u001b[39m) \u001b[38;5;241m%\u001b[39m extension\n\u001b[0;32m    164\u001b[0m \u001b[38;5;28;01mtry\u001b[39;00m:\n\u001b[1;32m--> 165\u001b[0m     data, from_cache \u001b[38;5;241m=\u001b[39m \u001b[43m_urlopen_cached\u001b[49m\u001b[43m(\u001b[49m\u001b[43murl\u001b[49m\u001b[43m,\u001b[49m\u001b[43m \u001b[49m\u001b[43mcache\u001b[49m\u001b[43m)\u001b[49m\n\u001b[0;32m    166\u001b[0m \u001b[38;5;28;01mexcept\u001b[39;00m HTTPError \u001b[38;5;28;01mas\u001b[39;00m err:\n\u001b[0;32m    167\u001b[0m     \u001b[38;5;28;01mif\u001b[39;00m \u001b[38;5;124m'\u001b[39m\u001b[38;5;124m404\u001b[39m\u001b[38;5;124m'\u001b[39m \u001b[38;5;129;01min\u001b[39;00m \u001b[38;5;28mstr\u001b[39m(err):\n",
      "File \u001b[1;32m~\\anaconda3\\lib\\site-packages\\statsmodels\\datasets\\utils.py:156\u001b[0m, in \u001b[0;36m_urlopen_cached\u001b[1;34m(url, cache)\u001b[0m\n\u001b[0;32m    154\u001b[0m \u001b[38;5;66;03m# not using the cache or did not find it in cache\u001b[39;00m\n\u001b[0;32m    155\u001b[0m \u001b[38;5;28;01mif\u001b[39;00m \u001b[38;5;129;01mnot\u001b[39;00m from_cache:\n\u001b[1;32m--> 156\u001b[0m     data \u001b[38;5;241m=\u001b[39m \u001b[43murlopen\u001b[49m\u001b[43m(\u001b[49m\u001b[43murl\u001b[49m\u001b[43m,\u001b[49m\u001b[43m \u001b[49m\u001b[43mtimeout\u001b[49m\u001b[38;5;241;43m=\u001b[39;49m\u001b[38;5;241;43m3\u001b[39;49m\u001b[43m)\u001b[49m\u001b[38;5;241m.\u001b[39mread()\n\u001b[0;32m    157\u001b[0m     \u001b[38;5;28;01mif\u001b[39;00m cache \u001b[38;5;129;01mis\u001b[39;00m \u001b[38;5;129;01mnot\u001b[39;00m \u001b[38;5;28;01mNone\u001b[39;00m:  \u001b[38;5;66;03m# then put it in the cache\u001b[39;00m\n\u001b[0;32m    158\u001b[0m         _cache_it(data, cache_path)\n",
      "File \u001b[1;32m~\\anaconda3\\lib\\urllib\\request.py:214\u001b[0m, in \u001b[0;36murlopen\u001b[1;34m(url, data, timeout, cafile, capath, cadefault, context)\u001b[0m\n\u001b[0;32m    212\u001b[0m \u001b[38;5;28;01melse\u001b[39;00m:\n\u001b[0;32m    213\u001b[0m     opener \u001b[38;5;241m=\u001b[39m _opener\n\u001b[1;32m--> 214\u001b[0m \u001b[38;5;28;01mreturn\u001b[39;00m \u001b[43mopener\u001b[49m\u001b[38;5;241;43m.\u001b[39;49m\u001b[43mopen\u001b[49m\u001b[43m(\u001b[49m\u001b[43murl\u001b[49m\u001b[43m,\u001b[49m\u001b[43m \u001b[49m\u001b[43mdata\u001b[49m\u001b[43m,\u001b[49m\u001b[43m \u001b[49m\u001b[43mtimeout\u001b[49m\u001b[43m)\u001b[49m\n",
      "File \u001b[1;32m~\\anaconda3\\lib\\urllib\\request.py:517\u001b[0m, in \u001b[0;36mOpenerDirector.open\u001b[1;34m(self, fullurl, data, timeout)\u001b[0m\n\u001b[0;32m    514\u001b[0m     req \u001b[38;5;241m=\u001b[39m meth(req)\n\u001b[0;32m    516\u001b[0m sys\u001b[38;5;241m.\u001b[39maudit(\u001b[38;5;124m'\u001b[39m\u001b[38;5;124murllib.Request\u001b[39m\u001b[38;5;124m'\u001b[39m, req\u001b[38;5;241m.\u001b[39mfull_url, req\u001b[38;5;241m.\u001b[39mdata, req\u001b[38;5;241m.\u001b[39mheaders, req\u001b[38;5;241m.\u001b[39mget_method())\n\u001b[1;32m--> 517\u001b[0m response \u001b[38;5;241m=\u001b[39m \u001b[38;5;28;43mself\u001b[39;49m\u001b[38;5;241;43m.\u001b[39;49m\u001b[43m_open\u001b[49m\u001b[43m(\u001b[49m\u001b[43mreq\u001b[49m\u001b[43m,\u001b[49m\u001b[43m \u001b[49m\u001b[43mdata\u001b[49m\u001b[43m)\u001b[49m\n\u001b[0;32m    519\u001b[0m \u001b[38;5;66;03m# post-process response\u001b[39;00m\n\u001b[0;32m    520\u001b[0m meth_name \u001b[38;5;241m=\u001b[39m protocol\u001b[38;5;241m+\u001b[39m\u001b[38;5;124m\"\u001b[39m\u001b[38;5;124m_response\u001b[39m\u001b[38;5;124m\"\u001b[39m\n",
      "File \u001b[1;32m~\\anaconda3\\lib\\urllib\\request.py:534\u001b[0m, in \u001b[0;36mOpenerDirector._open\u001b[1;34m(self, req, data)\u001b[0m\n\u001b[0;32m    531\u001b[0m     \u001b[38;5;28;01mreturn\u001b[39;00m result\n\u001b[0;32m    533\u001b[0m protocol \u001b[38;5;241m=\u001b[39m req\u001b[38;5;241m.\u001b[39mtype\n\u001b[1;32m--> 534\u001b[0m result \u001b[38;5;241m=\u001b[39m \u001b[38;5;28;43mself\u001b[39;49m\u001b[38;5;241;43m.\u001b[39;49m\u001b[43m_call_chain\u001b[49m\u001b[43m(\u001b[49m\u001b[38;5;28;43mself\u001b[39;49m\u001b[38;5;241;43m.\u001b[39;49m\u001b[43mhandle_open\u001b[49m\u001b[43m,\u001b[49m\u001b[43m \u001b[49m\u001b[43mprotocol\u001b[49m\u001b[43m,\u001b[49m\u001b[43m \u001b[49m\u001b[43mprotocol\u001b[49m\u001b[43m \u001b[49m\u001b[38;5;241;43m+\u001b[39;49m\n\u001b[0;32m    535\u001b[0m \u001b[43m                          \u001b[49m\u001b[38;5;124;43m'\u001b[39;49m\u001b[38;5;124;43m_open\u001b[39;49m\u001b[38;5;124;43m'\u001b[39;49m\u001b[43m,\u001b[49m\u001b[43m \u001b[49m\u001b[43mreq\u001b[49m\u001b[43m)\u001b[49m\n\u001b[0;32m    536\u001b[0m \u001b[38;5;28;01mif\u001b[39;00m result:\n\u001b[0;32m    537\u001b[0m     \u001b[38;5;28;01mreturn\u001b[39;00m result\n",
      "File \u001b[1;32m~\\anaconda3\\lib\\urllib\\request.py:494\u001b[0m, in \u001b[0;36mOpenerDirector._call_chain\u001b[1;34m(self, chain, kind, meth_name, *args)\u001b[0m\n\u001b[0;32m    492\u001b[0m \u001b[38;5;28;01mfor\u001b[39;00m handler \u001b[38;5;129;01min\u001b[39;00m handlers:\n\u001b[0;32m    493\u001b[0m     func \u001b[38;5;241m=\u001b[39m \u001b[38;5;28mgetattr\u001b[39m(handler, meth_name)\n\u001b[1;32m--> 494\u001b[0m     result \u001b[38;5;241m=\u001b[39m \u001b[43mfunc\u001b[49m\u001b[43m(\u001b[49m\u001b[38;5;241;43m*\u001b[39;49m\u001b[43margs\u001b[49m\u001b[43m)\u001b[49m\n\u001b[0;32m    495\u001b[0m     \u001b[38;5;28;01mif\u001b[39;00m result \u001b[38;5;129;01mis\u001b[39;00m \u001b[38;5;129;01mnot\u001b[39;00m \u001b[38;5;28;01mNone\u001b[39;00m:\n\u001b[0;32m    496\u001b[0m         \u001b[38;5;28;01mreturn\u001b[39;00m result\n",
      "File \u001b[1;32m~\\anaconda3\\lib\\urllib\\request.py:1389\u001b[0m, in \u001b[0;36mHTTPSHandler.https_open\u001b[1;34m(self, req)\u001b[0m\n\u001b[0;32m   1388\u001b[0m \u001b[38;5;28;01mdef\u001b[39;00m \u001b[38;5;21mhttps_open\u001b[39m(\u001b[38;5;28mself\u001b[39m, req):\n\u001b[1;32m-> 1389\u001b[0m     \u001b[38;5;28;01mreturn\u001b[39;00m \u001b[38;5;28;43mself\u001b[39;49m\u001b[38;5;241;43m.\u001b[39;49m\u001b[43mdo_open\u001b[49m\u001b[43m(\u001b[49m\u001b[43mhttp\u001b[49m\u001b[38;5;241;43m.\u001b[39;49m\u001b[43mclient\u001b[49m\u001b[38;5;241;43m.\u001b[39;49m\u001b[43mHTTPSConnection\u001b[49m\u001b[43m,\u001b[49m\u001b[43m \u001b[49m\u001b[43mreq\u001b[49m\u001b[43m,\u001b[49m\n\u001b[0;32m   1390\u001b[0m \u001b[43m        \u001b[49m\u001b[43mcontext\u001b[49m\u001b[38;5;241;43m=\u001b[39;49m\u001b[38;5;28;43mself\u001b[39;49m\u001b[38;5;241;43m.\u001b[39;49m\u001b[43m_context\u001b[49m\u001b[43m,\u001b[49m\u001b[43m \u001b[49m\u001b[43mcheck_hostname\u001b[49m\u001b[38;5;241;43m=\u001b[39;49m\u001b[38;5;28;43mself\u001b[39;49m\u001b[38;5;241;43m.\u001b[39;49m\u001b[43m_check_hostname\u001b[49m\u001b[43m)\u001b[49m\n",
      "File \u001b[1;32m~\\anaconda3\\lib\\urllib\\request.py:1349\u001b[0m, in \u001b[0;36mAbstractHTTPHandler.do_open\u001b[1;34m(self, http_class, req, **http_conn_args)\u001b[0m\n\u001b[0;32m   1346\u001b[0m         h\u001b[38;5;241m.\u001b[39mrequest(req\u001b[38;5;241m.\u001b[39mget_method(), req\u001b[38;5;241m.\u001b[39mselector, req\u001b[38;5;241m.\u001b[39mdata, headers,\n\u001b[0;32m   1347\u001b[0m                   encode_chunked\u001b[38;5;241m=\u001b[39mreq\u001b[38;5;241m.\u001b[39mhas_header(\u001b[38;5;124m'\u001b[39m\u001b[38;5;124mTransfer-encoding\u001b[39m\u001b[38;5;124m'\u001b[39m))\n\u001b[0;32m   1348\u001b[0m     \u001b[38;5;28;01mexcept\u001b[39;00m \u001b[38;5;167;01mOSError\u001b[39;00m \u001b[38;5;28;01mas\u001b[39;00m err: \u001b[38;5;66;03m# timeout error\u001b[39;00m\n\u001b[1;32m-> 1349\u001b[0m         \u001b[38;5;28;01mraise\u001b[39;00m URLError(err)\n\u001b[0;32m   1350\u001b[0m     r \u001b[38;5;241m=\u001b[39m h\u001b[38;5;241m.\u001b[39mgetresponse()\n\u001b[0;32m   1351\u001b[0m \u001b[38;5;28;01mexcept\u001b[39;00m:\n",
      "\u001b[1;31mURLError\u001b[0m: <urlopen error [Errno 11001] getaddrinfo failed>"
     ]
    }
   ],
   "source": [
    "import statsmodels.api as sm\n",
    "import numpy as np\n",
    "\n",
    "read = sm.datasets.get_rdataset('read3.csv')\n",
    "Y = read.data['Temp']\n",
    "X = read.data['Humid']\n",
    "X = sm.add_constant(X)\n",
    "model = sm.OLS(Y,X)\n",
    "results = model.fit()\n",
    "results.params"
   ]
  },
  {
   "cell_type": "code",
   "execution_count": 47,
   "id": "f01f8dc0",
   "metadata": {},
   "outputs": [
    {
     "name": "stdout",
     "output_type": "stream",
     "text": [
      "                            OLS Regression Results                            \n",
      "==============================================================================\n",
      "Dep. Variable:               entry_id   R-squared:                       0.132\n",
      "Model:                            OLS   Adj. R-squared:                  0.114\n",
      "Method:                 Least Squares   F-statistic:                     7.388\n",
      "Date:                Mon, 09 Jan 2023   Prob (F-statistic):            0.00103\n",
      "Time:                        15:13:55   Log-Likelihood:                -471.07\n",
      "No. Observations:                 100   AIC:                             948.1\n",
      "Df Residuals:                      97   BIC:                             956.0\n",
      "Df Model:                           2                                         \n",
      "Covariance Type:            nonrobust                                         \n",
      "==============================================================================\n",
      "                 coef    std err          t      P>|t|      [0.025      0.975]\n",
      "------------------------------------------------------------------------------\n",
      "const         31.9203     18.743      1.703      0.092      -5.279      69.120\n",
      "Temp           0.2375      0.333      0.714      0.477      -0.423       0.898\n",
      "Humid          0.4615      0.169      2.726      0.008       0.125       0.798\n",
      "==============================================================================\n",
      "Omnibus:                      213.507   Durbin-Watson:                   0.054\n",
      "Prob(Omnibus):                  0.000   Jarque-Bera (JB):                9.452\n",
      "Skew:                          -0.074   Prob(JB):                      0.00886\n",
      "Kurtosis:                       1.501   Cond. No.                         428.\n",
      "==============================================================================\n",
      "\n",
      "Notes:\n",
      "[1] Standard Errors assume that the covariance matrix of the errors is correctly specified.\n"
     ]
    }
   ],
   "source": [
    "import numpy as np\n",
    "import statsmodels.api as sm\n",
    "\n",
    "# Load the data\n",
    "df = pd.read_csv('read3.csv')\n",
    "\n",
    "# Select the features\n",
    "X = df[['Temp', 'Humid']]\n",
    "\n",
    "# Select the target\n",
    "y = df['entry_id']\n",
    "\n",
    "# Add a constant term to the features\n",
    "X = sm.add_constant(X)\n",
    "\n",
    "# Create the model\n",
    "model = sm.OLS(y, X)\n",
    "\n",
    "# Fit the model\n",
    "results = model.fit()\n",
    "\n",
    "# Print the summary\n",
    "print(results.summary())"
   ]
  },
  {
   "cell_type": "code",
   "execution_count": 46,
   "id": "39753155",
   "metadata": {},
   "outputs": [
    {
     "name": "stderr",
     "output_type": "stream",
     "text": [
      "C:\\Users\\HI\\anaconda3\\lib\\site-packages\\sklearn\\base.py:450: UserWarning: X does not have valid feature names, but LinearRegression was fitted with feature names\n",
      "  warnings.warn(\n"
     ]
    },
    {
     "ename": "ValueError",
     "evalue": "X has 3 features, but LinearRegression is expecting 2 features as input.",
     "output_type": "error",
     "traceback": [
      "\u001b[1;31m---------------------------------------------------------------------------\u001b[0m",
      "\u001b[1;31mValueError\u001b[0m                                Traceback (most recent call last)",
      "Input \u001b[1;32mIn [46]\u001b[0m, in \u001b[0;36m<cell line: 18>\u001b[1;34m()\u001b[0m\n\u001b[0;32m     16\u001b[0m \u001b[38;5;66;03m# Make predictions for new data\u001b[39;00m\n\u001b[0;32m     17\u001b[0m new_data \u001b[38;5;241m=\u001b[39m [[\u001b[38;5;241m1\u001b[39m, \u001b[38;5;241m72\u001b[39m, \u001b[38;5;241m50\u001b[39m], [\u001b[38;5;241m2\u001b[39m, \u001b[38;5;241m80\u001b[39m, \u001b[38;5;241m60\u001b[39m]]\n\u001b[1;32m---> 18\u001b[0m predictions \u001b[38;5;241m=\u001b[39m \u001b[43mmodel\u001b[49m\u001b[38;5;241;43m.\u001b[39;49m\u001b[43mpredict\u001b[49m\u001b[43m(\u001b[49m\u001b[43mnew_data\u001b[49m\u001b[43m)\u001b[49m\n",
      "File \u001b[1;32m~\\anaconda3\\lib\\site-packages\\sklearn\\linear_model\\_base.py:362\u001b[0m, in \u001b[0;36mLinearModel.predict\u001b[1;34m(self, X)\u001b[0m\n\u001b[0;32m    348\u001b[0m \u001b[38;5;28;01mdef\u001b[39;00m \u001b[38;5;21mpredict\u001b[39m(\u001b[38;5;28mself\u001b[39m, X):\n\u001b[0;32m    349\u001b[0m     \u001b[38;5;124;03m\"\"\"\u001b[39;00m\n\u001b[0;32m    350\u001b[0m \u001b[38;5;124;03m    Predict using the linear model.\u001b[39;00m\n\u001b[0;32m    351\u001b[0m \n\u001b[1;32m   (...)\u001b[0m\n\u001b[0;32m    360\u001b[0m \u001b[38;5;124;03m        Returns predicted values.\u001b[39;00m\n\u001b[0;32m    361\u001b[0m \u001b[38;5;124;03m    \"\"\"\u001b[39;00m\n\u001b[1;32m--> 362\u001b[0m     \u001b[38;5;28;01mreturn\u001b[39;00m \u001b[38;5;28;43mself\u001b[39;49m\u001b[38;5;241;43m.\u001b[39;49m\u001b[43m_decision_function\u001b[49m\u001b[43m(\u001b[49m\u001b[43mX\u001b[49m\u001b[43m)\u001b[49m\n",
      "File \u001b[1;32m~\\anaconda3\\lib\\site-packages\\sklearn\\linear_model\\_base.py:345\u001b[0m, in \u001b[0;36mLinearModel._decision_function\u001b[1;34m(self, X)\u001b[0m\n\u001b[0;32m    342\u001b[0m \u001b[38;5;28;01mdef\u001b[39;00m \u001b[38;5;21m_decision_function\u001b[39m(\u001b[38;5;28mself\u001b[39m, X):\n\u001b[0;32m    343\u001b[0m     check_is_fitted(\u001b[38;5;28mself\u001b[39m)\n\u001b[1;32m--> 345\u001b[0m     X \u001b[38;5;241m=\u001b[39m \u001b[38;5;28;43mself\u001b[39;49m\u001b[38;5;241;43m.\u001b[39;49m\u001b[43m_validate_data\u001b[49m\u001b[43m(\u001b[49m\u001b[43mX\u001b[49m\u001b[43m,\u001b[49m\u001b[43m \u001b[49m\u001b[43maccept_sparse\u001b[49m\u001b[38;5;241;43m=\u001b[39;49m\u001b[43m[\u001b[49m\u001b[38;5;124;43m\"\u001b[39;49m\u001b[38;5;124;43mcsr\u001b[39;49m\u001b[38;5;124;43m\"\u001b[39;49m\u001b[43m,\u001b[49m\u001b[43m \u001b[49m\u001b[38;5;124;43m\"\u001b[39;49m\u001b[38;5;124;43mcsc\u001b[39;49m\u001b[38;5;124;43m\"\u001b[39;49m\u001b[43m,\u001b[49m\u001b[43m \u001b[49m\u001b[38;5;124;43m\"\u001b[39;49m\u001b[38;5;124;43mcoo\u001b[39;49m\u001b[38;5;124;43m\"\u001b[39;49m\u001b[43m]\u001b[49m\u001b[43m,\u001b[49m\u001b[43m \u001b[49m\u001b[43mreset\u001b[49m\u001b[38;5;241;43m=\u001b[39;49m\u001b[38;5;28;43;01mFalse\u001b[39;49;00m\u001b[43m)\u001b[49m\n\u001b[0;32m    346\u001b[0m     \u001b[38;5;28;01mreturn\u001b[39;00m safe_sparse_dot(X, \u001b[38;5;28mself\u001b[39m\u001b[38;5;241m.\u001b[39mcoef_\u001b[38;5;241m.\u001b[39mT, dense_output\u001b[38;5;241m=\u001b[39m\u001b[38;5;28;01mTrue\u001b[39;00m) \u001b[38;5;241m+\u001b[39m \u001b[38;5;28mself\u001b[39m\u001b[38;5;241m.\u001b[39mintercept_\n",
      "File \u001b[1;32m~\\anaconda3\\lib\\site-packages\\sklearn\\base.py:585\u001b[0m, in \u001b[0;36mBaseEstimator._validate_data\u001b[1;34m(self, X, y, reset, validate_separately, **check_params)\u001b[0m\n\u001b[0;32m    582\u001b[0m     out \u001b[38;5;241m=\u001b[39m X, y\n\u001b[0;32m    584\u001b[0m \u001b[38;5;28;01mif\u001b[39;00m \u001b[38;5;129;01mnot\u001b[39;00m no_val_X \u001b[38;5;129;01mand\u001b[39;00m check_params\u001b[38;5;241m.\u001b[39mget(\u001b[38;5;124m\"\u001b[39m\u001b[38;5;124mensure_2d\u001b[39m\u001b[38;5;124m\"\u001b[39m, \u001b[38;5;28;01mTrue\u001b[39;00m):\n\u001b[1;32m--> 585\u001b[0m     \u001b[38;5;28;43mself\u001b[39;49m\u001b[38;5;241;43m.\u001b[39;49m\u001b[43m_check_n_features\u001b[49m\u001b[43m(\u001b[49m\u001b[43mX\u001b[49m\u001b[43m,\u001b[49m\u001b[43m \u001b[49m\u001b[43mreset\u001b[49m\u001b[38;5;241;43m=\u001b[39;49m\u001b[43mreset\u001b[49m\u001b[43m)\u001b[49m\n\u001b[0;32m    587\u001b[0m \u001b[38;5;28;01mreturn\u001b[39;00m out\n",
      "File \u001b[1;32m~\\anaconda3\\lib\\site-packages\\sklearn\\base.py:400\u001b[0m, in \u001b[0;36mBaseEstimator._check_n_features\u001b[1;34m(self, X, reset)\u001b[0m\n\u001b[0;32m    397\u001b[0m     \u001b[38;5;28;01mreturn\u001b[39;00m\n\u001b[0;32m    399\u001b[0m \u001b[38;5;28;01mif\u001b[39;00m n_features \u001b[38;5;241m!=\u001b[39m \u001b[38;5;28mself\u001b[39m\u001b[38;5;241m.\u001b[39mn_features_in_:\n\u001b[1;32m--> 400\u001b[0m     \u001b[38;5;28;01mraise\u001b[39;00m \u001b[38;5;167;01mValueError\u001b[39;00m(\n\u001b[0;32m    401\u001b[0m         \u001b[38;5;124mf\u001b[39m\u001b[38;5;124m\"\u001b[39m\u001b[38;5;124mX has \u001b[39m\u001b[38;5;132;01m{\u001b[39;00mn_features\u001b[38;5;132;01m}\u001b[39;00m\u001b[38;5;124m features, but \u001b[39m\u001b[38;5;132;01m{\u001b[39;00m\u001b[38;5;28mself\u001b[39m\u001b[38;5;241m.\u001b[39m\u001b[38;5;18m__class__\u001b[39m\u001b[38;5;241m.\u001b[39m\u001b[38;5;18m__name__\u001b[39m\u001b[38;5;132;01m}\u001b[39;00m\u001b[38;5;124m \u001b[39m\u001b[38;5;124m\"\u001b[39m\n\u001b[0;32m    402\u001b[0m         \u001b[38;5;124mf\u001b[39m\u001b[38;5;124m\"\u001b[39m\u001b[38;5;124mis expecting \u001b[39m\u001b[38;5;132;01m{\u001b[39;00m\u001b[38;5;28mself\u001b[39m\u001b[38;5;241m.\u001b[39mn_features_in_\u001b[38;5;132;01m}\u001b[39;00m\u001b[38;5;124m features as input.\u001b[39m\u001b[38;5;124m\"\u001b[39m\n\u001b[0;32m    403\u001b[0m     )\n",
      "\u001b[1;31mValueError\u001b[0m: X has 3 features, but LinearRegression is expecting 2 features as input."
     ]
    }
   ],
   "source": [
    "#from sklearn.linear_modelselection\n",
    "#import LinearRegression\n",
    "#import train test split\n",
    "import pandas as pd\n",
    "\n",
    "\n",
    "df = pd.read_csv('read3.csv')\n",
    "\n",
    "# Assume that you have a DataFrame called \"df\" with the predictor variables and the response variable\n",
    "X = df[[\"Temp\", \"Humid\"]]\n",
    "y = df[\"entry_id\"]\n",
    "\n",
    "# Fit the model to the data\n",
    "model = LinearRegression().fit(X, y)\n",
    "\n",
    "# Make predictions for new data\n",
    "new_data = [[1, 72, 50], [2, 80, 60]]\n",
    "predictions = model.predict(new_data)"
   ]
  },
  {
   "cell_type": "code",
   "execution_count": null,
   "id": "098f9fa7",
   "metadata": {},
   "outputs": [],
   "source": []
  },
  {
   "cell_type": "code",
   "execution_count": null,
   "id": "2bde5831",
   "metadata": {},
   "outputs": [],
   "source": []
  },
  {
   "cell_type": "code",
   "execution_count": 37,
   "id": "baaf7ef4",
   "metadata": {},
   "outputs": [],
   "source": [
    "from sklearn.model_selection import train_test_split\n",
    "from sklearn.linear_model import LinearRegression"
   ]
  },
  {
   "cell_type": "code",
   "execution_count": 26,
   "id": "82167d2e",
   "metadata": {},
   "outputs": [],
   "source": [
    "import pandas as pd\n",
    "df = pd.read_csv('read3.csv')\n",
    "X= df[['Temp', 'Humid']]\n",
    "y = df['entry_id']"
   ]
  },
  {
   "cell_type": "code",
   "execution_count": 34,
   "id": "6b357e5b",
   "metadata": {},
   "outputs": [],
   "source": [
    "#X_train, y_train, y_test = train_test_split(X, y, test_size = 0.3, random_state = 100)"
   ]
  },
  {
   "cell_type": "code",
   "execution_count": 32,
   "id": "39e40f27",
   "metadata": {},
   "outputs": [],
   "source": [
    "X_train, X_test, y_train, y_test = train_test_split(X, y, test_size = 0.3, random_state = 100)"
   ]
  },
  {
   "cell_type": "code",
   "execution_count": 33,
   "id": "e8319bd2",
   "metadata": {},
   "outputs": [
    {
     "data": {
      "text/plain": [
       "LinearRegression()"
      ]
     },
     "execution_count": 33,
     "metadata": {},
     "output_type": "execute_result"
    }
   ],
   "source": [
    "mlr = LinearRegression()  \n",
    "mlr.fit(X_train, y_train)"
   ]
  },
  {
   "cell_type": "code",
   "execution_count": 36,
   "id": "cb960d7b",
   "metadata": {},
   "outputs": [
    {
     "name": "stdout",
     "output_type": "stream",
     "text": [
      "Prediction for Temp set: [81.84970773 48.08936346 62.90134319 84.48763802 51.65672522 61.85089728\n",
      " 80.47369732 43.9863929  64.99388145 61.79385201 64.8310992  57.08701449\n",
      " 72.17586701 81.05107393 73.28335819 64.49718113 84.36519391 47.52726431\n",
      " 84.26781049 47.52726431 66.65511823 63.83769856 63.83769856 84.70746554\n",
      " 67.64851886 62.07072481 63.06412545 75.15606893 66.81790048 61.79385201]\n"
     ]
    }
   ],
   "source": [
    "y_pred_mlr= mlr.predict(X_test)\n",
    "#Predicted values\n",
    "print(\"Prediction for Temp set: {}\".format(y_pred_mlr))"
   ]
  },
  {
   "cell_type": "code",
   "execution_count": null,
   "id": "63e7c7d4",
   "metadata": {},
   "outputs": [],
   "source": []
  },
  {
   "cell_type": "code",
   "execution_count": null,
   "id": "e0f3f96f",
   "metadata": {},
   "outputs": [],
   "source": []
  },
  {
   "cell_type": "code",
   "execution_count": null,
   "id": "cda8003b",
   "metadata": {},
   "outputs": [],
   "source": []
  },
  {
   "cell_type": "code",
   "execution_count": null,
   "id": "4a167307",
   "metadata": {},
   "outputs": [],
   "source": []
  },
  {
   "cell_type": "code",
   "execution_count": null,
   "id": "bf1c3950",
   "metadata": {},
   "outputs": [],
   "source": []
  },
  {
   "cell_type": "code",
   "execution_count": null,
   "id": "89e291d8",
   "metadata": {},
   "outputs": [],
   "source": []
  },
  {
   "cell_type": "code",
   "execution_count": null,
   "id": "b4d67e41",
   "metadata": {},
   "outputs": [],
   "source": []
  },
  {
   "cell_type": "code",
   "execution_count": null,
   "id": "28def802",
   "metadata": {},
   "outputs": [],
   "source": []
  }
 ],
 "metadata": {
  "kernelspec": {
   "display_name": "Python 3 (ipykernel)",
   "language": "python",
   "name": "python3"
  },
  "language_info": {
   "codemirror_mode": {
    "name": "ipython",
    "version": 3
   },
   "file_extension": ".py",
   "mimetype": "text/x-python",
   "name": "python",
   "nbconvert_exporter": "python",
   "pygments_lexer": "ipython3",
   "version": "3.10.9"
  }
 },
 "nbformat": 4,
 "nbformat_minor": 5
}
